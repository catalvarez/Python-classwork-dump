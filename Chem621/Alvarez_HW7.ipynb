{
 "cells": [
  {
   "cell_type": "markdown",
   "metadata": {},
   "source": [
    "# HW7 - Electrochemistry"
   ]
  },
  {
   "cell_type": "code",
   "execution_count": 1,
   "metadata": {
    "collapsed": true
   },
   "outputs": [],
   "source": [
    "# imports\n",
    "import matplotlib\n",
    "import matplotlib.pyplot as plt\n",
    "%matplotlib inline\n",
    "matplotlib.rcParams['figure.figsize'] = [9, 6]\n",
    "matplotlib.rcParams['font.size'] = 11\n",
    "import numpy as np"
   ]
  },
  {
   "cell_type": "markdown",
   "metadata": {
    "collapsed": true
   },
   "source": [
    "A solution is prepared by mixing 50 mL of 0.01 M lithium napthalate (the reduced anion of napthalene), 5 mL of 0.02 M cupric nitrate, and 5 mL of 0.04 M buckminsterfullerene (C<sub>60</sub>). A platinum electrode is placed in the resulting solution. A second solution is prepared by inserting a silver electrode into a solution containing 0.10M sodium chloride. An AgCl coating is formed on the electrode by applying an external potential that oxidizes some of the Ag metal to create an AgCl precipitate at the surface. The coated Ag electrode is now ready to be used as one of the two half-cells for our measurements. A salt bridge is connected between two solutions and the potential is measured between the two electrodes with a high input impedance potentiometer.\n",
    "\n",
    "<img src=\"cell_potentials.png\" width=\"400\">"
   ]
  },
  {
   "cell_type": "markdown",
   "metadata": {},
   "source": [
    "## 1\n",
    "What is the concentration of the dominant species after the first solution reaches equilibrium? (an example is C<sub>60</sub><sup>-</sup> = 1.67x10<sup>-3</sup> M)"
   ]
  },
  {
   "cell_type": "code",
   "execution_count": 32,
   "metadata": {
    "collapsed": false
   },
   "outputs": [
    {
     "name": "stdout",
     "output_type": "stream",
     "text": [
      "0.00833333333333 M\n",
      "0.00166666666667 M\n",
      "0.00333333333333 M\n"
     ]
    }
   ],
   "source": [
    "Ci_nap1 = 0.05*0.01\n",
    "Ci_C0 = 0.005*0.04\n",
    "Ci_Cu2 = 0.005*0.02\n",
    "\n",
    "C_C1 = Ci_nap1-Ci_Cu2-Ci_C0\n",
    "C_Cu0 = Ci_Cu2\n",
    "C_nap0 = Ci_nap1\n",
    "print C_nap0/0.06, \"M\"\n",
    "print C_Cu0/0.06, \"M\"\n",
    "print C_C1/0.06, \"M\""
   ]
  },
  {
   "cell_type": "markdown",
   "metadata": {},
   "source": [
    "## 2\n",
    "What are the concentrations of all the species in the first solution after it reaches equilibrium? Include the concentrations of the minor species as well."
   ]
  },
  {
   "cell_type": "code",
   "execution_count": 23,
   "metadata": {
    "collapsed": false
   },
   "outputs": [
    {
     "name": "stdout",
     "output_type": "stream",
     "text": [
      "0.00166666666667\n",
      "0.879697778073\n",
      "3.03724004201e+11\n",
      "0.00833333333333\n",
      "0.000250572191549\n",
      "5.20655567738e-17\n",
      "1.74200633527e-38\n",
      "4.45475923051e-68\n",
      "0.00333333333333\n",
      "3.60816660967e-47\n"
     ]
    }
   ],
   "source": [
    "def nerst(n, E_o, E):\n",
    "    T = 298\n",
    "    F = 96485\n",
    "    R = 8.314\n",
    "    val = 10**(n*F*(E_o-E)/(2.303*R*T))\n",
    "    \n",
    "    return val\n",
    "\n",
    "E = 0.0\n",
    "\n",
    "E_Cu1 = 0.518\n",
    "E_Cu2_2 = 0.339\n",
    "E_Cu2 = 0.161\n",
    "E_C0 = -0.09\n",
    "E_C1 = -0.750\n",
    "E_C2 = -1.270\n",
    "E_C3 = -1.750\n",
    "E_nap0 = -2.6\n",
    "\n",
    "Cu_i = 0.005*0.02/0.06 # starting conc\n",
    "Cu2 = Cu_i*1.0\n",
    "Cu1 = Cu_i*nerst(1.0,(E_Cu2),(E))\n",
    "Cu0 = Cu_i*nerst(2.0,(E_Cu2_2),(E))+nerst(1.0,(E_Cu2+E_Cu1),(2.0*E))\n",
    "C_i = 0.05*0.01/0.06\n",
    "C0 = C_i*1.0\n",
    "C1 = C_i*nerst(1.0,(E_C0),(E))\n",
    "C2 = C_i*nerst(1.0,(E_C0+E_C1),(2.0*E))\n",
    "C3 = C_i*nerst(1.0,(E_C0+E_C1+E_C2),(3.0*E))\n",
    "C4 = C_i*nerst(1.0,(E_C0+E_C1+E_C2+E_C3),(4.0*E))\n",
    "nap_i = 0.005*0.04/0.06\n",
    "nap0 = nap_i*1.0\n",
    "nap1 = nap_i*nerst(1.0,(E_nap0),(E))\n",
    "\n",
    "Cv = Cu2+Cu1+Cu0+C0+C1+C2+C3+C4+nap0+nap1\n",
    "\n",
    "print Cu2\n",
    "print Cu1\n",
    "print Cu0\n",
    "print C0\n",
    "print C1\n",
    "print C2\n",
    "print C3\n",
    "print C4\n",
    "print nap0\n",
    "print nap1"
   ]
  },
  {
   "cell_type": "markdown",
   "metadata": {},
   "source": [
    "## 3\n",
    "Draw two distribution diagrams that show the changes in the fractional distribution of all the species as a function of the cell potential. The first diagram should have a linear ordinate and the second a logaritmic ordinate. Can the Cu<sup>+</sup> coexist with the Cu<sup>2+</sup> and Cu<sup>0</sup> at equilibrium? "
   ]
  },
  {
   "cell_type": "code",
   "execution_count": 33,
   "metadata": {
    "collapsed": false
   },
   "outputs": [
    {
     "data": {
      "text/plain": [
       "<matplotlib.legend.Legend at 0xc19be10>"
      ]
     },
     "execution_count": 33,
     "metadata": {},
     "output_type": "execute_result"
    },
    {
     "data": {
      "image/png": "[encoded data removed]",
      "text/plain": [
       "<matplotlib.figure.Figure at 0xbba6080>"
      ]
     },
     "metadata": {},
     "output_type": "display_data"
    }
   ],
   "source": [
    "def nerst(n, E_o, E):\n",
    "    T = 298\n",
    "    F = 96485\n",
    "    R = 8.314\n",
    "    val = 10**(n*F*(E_o-E)/(2.303*R*T))\n",
    "    \n",
    "    return val\n",
    "\n",
    "E = np.arange(-3.0,3.1,0.1)\n",
    "\n",
    "E_Cu1 = 0.518\n",
    "E_Cu2_2 = 0.339\n",
    "E_Cu2 = 0.161\n",
    "E_C0 = -0.09\n",
    "E_C1 = -0.750\n",
    "E_C2 = -1.270\n",
    "E_C3 = -1.750\n",
    "E_nap0 = -2.6\n",
    "\n",
    "Cu2 = 1.0+np.zeros(np.size(E))\n",
    "Cu1 = nerst(1.0,(E_Cu2),(E))\n",
    "Cu0 = nerst(2.0,(E_Cu2_2),(E))+nerst(1.0,(E_Cu2+E_Cu1),(2.0*E))\n",
    "C0 = 1.0+np.zeros(np.size(E))\n",
    "C1 = nerst(1.0,(E_C0),(E))\n",
    "C2 = nerst(1.0,(E_C0+E_C1),(2.0*E))\n",
    "C3 = nerst(1.0,(E_C0+E_C1+E_C2),(3.0*E))\n",
    "C4 = nerst(1.0,(E_C0+E_C1+E_C2+E_C3),(4.0*E))\n",
    "nap0 = 1.0+np.zeros(np.size(E))\n",
    "nap1 = nerst(1.0,(E_nap0),(E))\n",
    "\n",
    "Cv = Cu2+Cu1+Cu0+C0+C1+C2+C3+C4+nap0+nap1\n",
    "\n",
    "plt.plot(E,(Cu2))\n",
    "plt.plot(E,(Cu1))\n",
    "plt.plot(E,(Cu0))\n",
    "plt.plot(E,(C0))\n",
    "plt.plot(E,(C1))\n",
    "plt.plot(E,(C2))\n",
    "plt.plot(E,(C3))\n",
    "plt.plot(E,(C4))\n",
    "plt.plot(E,(nap0))\n",
    "plt.plot(E,(nap1))\n",
    "plt.legend(['Cu2','Cu1','Cu0','C0','C1','C2','C3','C4','nap0','nap1'])"
   ]
  },
  {
   "cell_type": "markdown",
   "metadata": {},
   "source": [
    "## 4\n",
    "What is the half cell potential of the first solution relative to a standard hydrogen electrode? (between -0.5 and -0.8 V)"
   ]
  },
  {
   "cell_type": "code",
   "execution_count": 21,
   "metadata": {
    "collapsed": false
   },
   "outputs": [
    {
     "name": "stdout",
     "output_type": "stream",
     "text": [
      "-0.75\n"
     ]
    }
   ],
   "source": [
    "E_1 = -0.750 # C1/C2 equilibrium\n",
    "print E_1"
   ]
  },
  {
   "cell_type": "markdown",
   "metadata": {},
   "source": [
    "## 5\n",
    "What is the half cell potential of the second solution relative to a standard hydrogen electrode? (0.28 V)"
   ]
  },
  {
   "cell_type": "code",
   "execution_count": 18,
   "metadata": {
    "collapsed": false
   },
   "outputs": [
    {
     "name": "stdout",
     "output_type": "stream",
     "text": [
      "0.0841474795134\n"
     ]
    }
   ],
   "source": [
    "AgCl = 0.1 # M\n",
    "E_2 = 0.22-0.059/1.0*np.log(1.0/AgCl)\n",
    "print E_2"
   ]
  },
  {
   "cell_type": "markdown",
   "metadata": {},
   "source": [
    "## 6\n",
    "What is the final cell potential?"
   ]
  },
  {
   "cell_type": "code",
   "execution_count": 22,
   "metadata": {
    "collapsed": false
   },
   "outputs": [
    {
     "name": "stdout",
     "output_type": "stream",
     "text": [
      "0.834147479513\n"
     ]
    }
   ],
   "source": [
    "E = E_2-E_1 #red-ox\n",
    "print E"
   ]
  },
  {
   "cell_type": "markdown",
   "metadata": {},
   "source": [
    "## 7\n",
    "Which solution is the cathode (electrode where reduction occurs) and which is the anode (electrode where oxidation occurs)?"
   ]
  },
  {
   "cell_type": "markdown",
   "metadata": {},
   "source": [
    "The first solution is the anode and the second solution is the cathode."
   ]
  },
  {
   "cell_type": "markdown",
   "metadata": {},
   "source": [
    "## 8\n",
    "If the cell potential is measured with a voltmeter that requires 5 picoamperes of current for the measurement and if the voltage is measured for 1 hour, how much will the concentration of the dominant species change? Express your answer as a % change."
   ]
  },
  {
   "cell_type": "code",
   "execution_count": 28,
   "metadata": {
    "collapsed": false
   },
   "outputs": [
    {
     "name": "stdout",
     "output_type": "stream",
     "text": [
      "3.1146179402e-12\n"
     ]
    }
   ],
   "source": [
    "t = 3600 # s\n",
    "i = 5.0E-12 #Amps\n",
    "e_charge = 1.6E-19\n",
    "Na = 6.02E23\n",
    "Q = i*t\n",
    "e = Q/e_charge\n",
    "Conc = e/Na/0.06\n",
    "print Conc"
   ]
  },
  {
   "cell_type": "markdown",
   "metadata": {},
   "source": [
    "## 9\n",
    "If a 100 milliampere current is drawn from this cell, how long will this cell provide current? Express your answer in hours."
   ]
  },
  {
   "cell_type": "code",
   "execution_count": 29,
   "metadata": {
    "collapsed": false
   },
   "outputs": [
    {
     "name": "stdout",
     "output_type": "stream",
     "text": [
      "5e-09\n"
     ]
    }
   ],
   "source": [
    "i = 0.001\n",
    "e = Conc*Na*0.06\n",
    "Q = e*e_charge\n",
    "t = Q/i\n",
    "t_h = t/3600\n",
    "print t_h"
   ]
  },
  {
   "cell_type": "code",
   "execution_count": null,
   "metadata": {
    "collapsed": true
   },
   "outputs": [],
   "source": []
  }
 ],
 "metadata": {
  "kernelspec": {
   "display_name": "Python 2",
   "language": "python",
   "name": "python2"
  },
  "language_info": {
   "codemirror_mode": {
    "name": "ipython",
    "version": 2
   },
   "file_extension": ".py",
   "mimetype": "text/x-python",
   "name": "python",
   "nbconvert_exporter": "python",
   "pygments_lexer": "ipython2",
   "version": "2.7.8"
  }
 },
 "nbformat": 4,
 "nbformat_minor": 0
}
