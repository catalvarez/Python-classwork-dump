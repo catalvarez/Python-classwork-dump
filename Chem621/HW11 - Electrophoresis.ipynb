{
 "cells": [
  {
   "cell_type": "markdown",
   "metadata": {},
   "source": [
    "#HW11 - Electrophoresis"
   ]
  },
  {
   "cell_type": "code",
   "execution_count": 1,
   "metadata": {
    "collapsed": true
   },
   "outputs": [],
   "source": [
    "# imports\n",
    "import matplotlib\n",
    "import matplotlib.pyplot as plt\n",
    "%matplotlib inline\n",
    "matplotlib.rcParams['figure.figsize'] = [9, 6]\n",
    "matplotlib.rcParams['font.size'] = 11\n",
    "import numpy as np"
   ]
  },
  {
   "cell_type": "markdown",
   "metadata": {},
   "source": [
    "This homework focuses on the ground breaking paper \"[Zone Electrophoresis in Open-Tubular Glass Capillaries](http://pubs.acs.org/doi/abs/10.1021/ac00231a037)\", Anal. Chem 1981, 53. 1298-1302 by James W. Jorgenson and Krynn DeAarman Lukas.\n",
    "\n",
    "##1\n",
    "The authors state that eddy migration is one important cause of zone broadening in zone electrophoresis. What is eddy migration and why does it cause broadening? Would the amount of broadening caused by eddy migration depend on the voltage used in electrophoresis? Does eddy diffusion depend on the column diameter? Is it an important effect in capillary zone electrophoresis? Explain the reasons for your answers."
   ]
  },
  {
   "cell_type": "markdown",
   "metadata": {},
   "source": [
    "##2\n",
    "The authors state that molecular diffusion is important in their open-tubular glass capillary work but they also state that it is not important in conventional electrophoresis. Why is molecular diffusion important for one method but not the other?"
   ]
  },
  {
   "cell_type": "markdown",
   "metadata": {},
   "source": [
    "##3\n",
    "Equation 6 is independent of capillary length, suggesting that the optimum analysis times are achieved with the shortest capillaries. What practical considerations will limit the shortest capillary without sacrificing the resolution?"
   ]
  },
  {
   "cell_type": "markdown",
   "metadata": {},
   "source": [
    "##4\n",
    "From the data presented, estimate the diffusion constant for the fluorescamine derivative of hexylamine in the solvent buffer."
   ]
  },
  {
   "cell_type": "markdown",
   "metadata": {},
   "source": [
    "##5\n",
    "A fluorescence detector is used for this work. In order to prevent broadening from the detector, the detector volume must be smaller than the volume of an analyte peak. Determine the volume of the analyte peak as it elutes from the capillary column. Are the dimensions compatible with a fluorescence detector such as that used in the paper on single molecule detection by Zare?"
   ]
  },
  {
   "cell_type": "markdown",
   "metadata": {},
   "source": [
    "##6\n",
    "The authors point out that temperature gradients across the column become less important if the capillary diameter is smaller than the distances associated with molecular diffusion (Molecular diffusion is the important mechanism for transporting heat in solutions). Estimate the rate required for molecular diffusion to be fast enough to avoid temperature gradients. Does it need to occur many times while the molecule is in the column or once? Determine a reasonable way to quantitatively estimate the diameter required and then calculate the diameter required to meet this condition. Compare your estimate with the value used in the paper."
   ]
  },
  {
   "cell_type": "markdown",
   "metadata": {},
   "source": [
    "##7\n",
    "Calculate the number of plates, $N$, that would be experimentally measured if the samples were introduced to the capillary by applying the high voltage for 30 seconds. What period of time would be necessary to achieve the results reported in the paper?"
   ]
  },
  {
   "cell_type": "markdown",
   "metadata": {},
   "source": [
    "##8\n",
    "Compare the flow profile of electro-osmotic flow with the laminar flow profile of open HPLC. Is there an advantage to using electro-osmotic flow in conventional HPLC? If there is, would it be possible to replace conventional pumps in HPLC with high voltage supplies and use electro-osmosis for LC separations?"
   ]
  },
  {
   "cell_type": "markdown",
   "metadata": {},
   "source": [
    "##9\n",
    "What is the height of a theoretical plate (in cm) and the spatial (in cm) and temporal (in sec) widths of an analyte peak?"
   ]
  }
 ],
 "metadata": {
  "kernelspec": {
   "display_name": "Python 2",
   "language": "python",
   "name": "python2"
  },
  "language_info": {
   "codemirror_mode": {
    "name": "ipython",
    "version": 2
   },
   "file_extension": ".py",
   "mimetype": "text/x-python",
   "name": "python",
   "nbconvert_exporter": "python",
   "pygments_lexer": "ipython2",
   "version": "2.7.10"
  }
 },
 "nbformat": 4,
 "nbformat_minor": 0
}
