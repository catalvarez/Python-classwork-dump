{
 "cells": [
  {
   "cell_type": "markdown",
   "metadata": {},
   "source": [
    "#HW10 - GC & HPLC Simulation"
   ]
  },
  {
   "cell_type": "code",
   "execution_count": 2,
   "metadata": {
    "collapsed": true
   },
   "outputs": [],
   "source": [
    "# imports\n",
    "import matplotlib\n",
    "import matplotlib.pyplot as plt\n",
    "%matplotlib inline\n",
    "matplotlib.rcParams['figure.figsize'] = [9, 6]\n",
    "matplotlib.rcParams['font.size'] = 11\n",
    "import numpy as np"
   ]
  },
  {
   "cell_type": "code",
   "execution_count": 3,
   "metadata": {
    "collapsed": false
   },
   "outputs": [
    {
     "name": "stdout",
     "output_type": "stream",
     "text": [
      "(1452L,)\n",
      "185.165388 185.165388\n",
      "219.329041 219.329041\n",
      "(22L,) (11L,) (3L,) (2L,)\n",
      "1452\n"
     ]
    }
   ],
   "source": [
    "tag = 185.165388\n",
    "mass = np.full([22,11,3,2],tag)\n",
    "Hmono = 1.007825\n",
    "Hheavy = 2.014102\n",
    "Cmono = 12.\n",
    "Cheavy = 13.003355\n",
    "Nmono = 14.003074\n",
    "Nheavy = 15.000109\n",
    "Omono = 15.994915\n",
    "Oheavy = 16.999131\n",
    "Hdiff = 2.014102-1.007825\n",
    "Cdiff = 13.003355-12.000000\n",
    "Ndiff = 15.000109-14.003074\n",
    "Odiff = 16.999131-15.994915\n",
    "Harange = np.arange(0,(Hdiff*22),Hdiff)\n",
    "Carange = np.arange(0,(Cdiff*11),Cdiff)\n",
    "Narange = np.arange(0,(Ndiff*3),Ndiff)\n",
    "Oarange = np.arange(0,Odiff*2,Odiff)\n",
    "H = Harange[:,np.newaxis,np.newaxis,np.newaxis]\n",
    "C = Carange[np.newaxis,:,np.newaxis,np.newaxis]\n",
    "N = Narange[np.newaxis,np.newaxis,:,np.newaxis]\n",
    "O = Oarange[np.newaxis,np.newaxis,np.newaxis,:]\n",
    "Isotope = mass+H+C+N+O\n",
    "Iso_reshape = np.sort(Isotope, axis=None) \n",
    "print Iso_reshape.shape\n",
    "print np.min(Iso_reshape), Hmono*21+Cmono*10+Nmono*2+Omono\n",
    "print np.max(Iso_reshape),(Hheavy*21)+Cheavy*10+Nheavy*2+Oheavy\n",
    "print Harange.shape,Carange.shape,Narange.shape,Oarange.shape"
   ]
  },
  {
   "cell_type": "code",
   "execution_count": null,
   "metadata": {
    "collapsed": true
   },
   "outputs": [],
   "source": []
  }
 ],
 "metadata": {
  "kernelspec": {
   "display_name": "Python 2",
   "language": "python",
   "name": "python2"
  },
  "language_info": {
   "codemirror_mode": {
    "name": "ipython",
    "version": 2
   },
   "file_extension": ".py",
   "mimetype": "text/x-python",
   "name": "python",
   "nbconvert_exporter": "python",
   "pygments_lexer": "ipython2",
   "version": "2.7.8"
  }
 },
 "nbformat": 4,
 "nbformat_minor": 0
}
