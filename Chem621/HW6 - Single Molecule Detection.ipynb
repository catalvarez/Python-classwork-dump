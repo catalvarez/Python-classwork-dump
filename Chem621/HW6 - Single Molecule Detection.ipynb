{
 "cells": [
  {
   "cell_type": "markdown",
   "metadata": {},
   "source": [
    "#HW6 - Single Molecule Detection"
   ]
  },
  {
   "cell_type": "code",
   "execution_count": 1,
   "metadata": {
    "collapsed": true
   },
   "outputs": [],
   "source": [
    "# imports\n",
    "import matplotlib\n",
    "import matplotlib.pyplot as plt\n",
    "%matplotlib inline\n",
    "matplotlib.rcParams['figure.figsize'] = [9, 6]\n",
    "matplotlib.rcParams['font.size'] = 11\n",
    "import numpy as np\n",
    "from scipy.misc import factorial"
   ]
  },
  {
   "cell_type": "markdown",
   "metadata": {},
   "source": [
    "Single molecule spectroscopy has become a dominant technique because it allows one to by-pass the averaging effects when we are watching what millions of molecules are doing. The following questions are based on the article [\"Real-Time Detection of Single Molecules in Solution by Confocal Fluorescence Microscopy\"](http://pubs.acs.org/doi/abs/10.1021/ac00113a019) by Nie, Chiu, and Zare, Anal. Chem volume 67 pp 2849 (1995). This paper is one of the foundational papers for the field of single molecule spectroscopy. The paper uses Rhodamine 6G as the probe molecule. The spectroscopic properties of R6G are shown below (from F.P. Schafer - \"Topics in Applied Physics - Dye Lasers\", page 89, Springer-Verlag, 1977).\n",
    "\n",
    "<img src=\"R6G.png\">\n",
    "\n",
    "The figure shows the cross-sections for absorption, $\\sigma_\\mathrm{s}$ and stimulated emission, $\\sigma_\\mathrm{em}$. If you need a quantity that is not given in the paper or in this document, feel free to estimate it."
   ]
  },
  {
   "cell_type": "markdown",
   "metadata": {},
   "source": [
    "##1\n",
    "For Rhodamine 6G, assume that the intersystem crossing rate (the rate of undergoing transitions from the $S_1$ state to the $T_1$ state) is $10^6 \\,\\, \\mathrm{sec}^{-1}$, the radiative rate for the $S_1 \\rightarrow S_0$ transition is $8 \\times 10^7 \\,\\, \\mathrm{sec}^{-1}$, and the internal coversion rate (the rate of undergoing transitions from the $S_1$ to the $S_0$ state) is $2 \\times 10^7 \\,\\, \\mathrm{sec}^{-1}$. The total rate is the sum of all the rates depopulating an energy level. The lifetime of a level is the reciprocal of the total rate. The quantum efficiency for a level emitting light is the ratio of the radiative rate to the total rate. The absorption cross-section is given on the graph. You should also remember the relationship $\\ln(\\frac{I_0}{I}) = \\sigma N l$ where $I_0$ and $I$ are the light intensity before and after the sample, $\\sigma$ is the absorption cross section in square cm, $N$ is the concentration in molecules per cubic cm, and $l$ is the pathlength in cm. Again, feel free to estimate some qantities if they are not given here or in the paper.\n",
    "\n",
    "##1a\n",
    "From the spectra, draw an energy level diagram that shows the $S_0$, $S_1$ and $T_1$ levels in their appropriate positions using wavenumbers as the y axis."
   ]
  },
  {
   "cell_type": "markdown",
   "metadata": {},
   "source": [
    "##1b\n",
    "For the conditions described in the paper, determine the number of photons per second absorbed in the sample by determing $I_0 - I$. Compare this rate with the total relaxation rate from the $S_1$ level (the sum of the radiative and internal conversion rates). Is the system saturated?"
   ]
  },
  {
   "cell_type": "markdown",
   "metadata": {},
   "source": [
    "##1c\n",
    "Saturation occurs with the rate of the absorption equals the rate of the relaxation from the level. Saturation results in a lower signal because the rate of emission is no longer proportional to the rate of the absorption because stimulated emission becomes important. Make a graph that shows the fluorescence rate in photons per second as a function the excitation power (watts) for the sample excited in this paper."
   ]
  },
  {
   "cell_type": "markdown",
   "metadata": {},
   "source": [
    "##1d\n",
    "Taking into account the saturation effects, estimate the fluorescence signal in photons per second. You will need to know the fraction of the absorbed photons that are actually emitted as fluorescence. That fraction depends on the saturation and the fluorescence quantum efficiency. Your answer will correspond to one of the points in the curve you created in 1c."
   ]
  },
  {
   "cell_type": "markdown",
   "metadata": {},
   "source": [
    "##1e\n",
    "Find the signal in electrons per second from the emitted photons per second that are actually detected. For this you will need the solid angle, the beam splitter, and the quantum efficiency of the detector. Compare your estimate with the values given in the paper."
   ]
  },
  {
   "cell_type": "markdown",
   "metadata": {},
   "source": [
    "##1f\n",
    "If the laser is bright enough, it can equalize the populations of the ground and excited states. If the populations are equalized, what signal would you measure? How does it compare with the signal calculated in 1d? If one simply multiplies the rate of fluorescence by the excited state population, does one obtain the same answer? If the answers are different, explain why."
   ]
  },
  {
   "cell_type": "markdown",
   "metadata": {},
   "source": [
    "##2\n",
    "The paper contains 5 observations that prove the emission reported comes from single molecule fluorescence and not scattered light. What are those 5 observations?"
   ]
  },
  {
   "cell_type": "markdown",
   "metadata": {},
   "source": [
    "##3\n",
    "Determine the detection volume using your knowlege about the beam waist $w_0$ and the confocal parameter $z_c$ of a focused laser beam. The confocal parameter is a measure of the length over which a focused Gaussian laser beam remains collimated at its beam waist.\n",
    "\n",
    "\\begin{equation}\\Large\n",
    "z_c = \\frac{\\pi w_0^2}{\\lambda}\n",
    "\\end{equation}\n",
    "\n",
    "How does your estimate of detection volume compare with the values assumed in the paper? Remember that 1 cubic cm defines 1 mL.\n",
    "\n",
    "Note that the paper uses the term numerical aperture. The numerical aperature is $\\mathrm{NA} = n \\sin(\\theta)$ where $n$ is the index of refraction (1 for air and 1.56 for oil), and $\\theta$ is the angle of the light cone. For small $\\theta$, $\\mathrm{NA}$ is the inverse of the f number."
   ]
  },
  {
   "cell_type": "markdown",
   "metadata": {},
   "source": [
    "##4a\n",
    "Show that there should be only one molecule in the detection volume on average if the R6G concentration is $3.3 \\times 10^{-9} \\,\\, \\mathrm{M}$."
   ]
  },
  {
   "cell_type": "markdown",
   "metadata": {},
   "source": [
    "##4b\n",
    "The paper states \"Poisson distribution predicts an equal probability (0.3679) for one or zero molecule in the probe volume and a lower probability (0.1839) for two molecules.\". Make your own estimate of these quantities and compare them with the paper's estimates."
   ]
  },
  {
   "cell_type": "code",
   "execution_count": 2,
   "metadata": {
    "collapsed": false
   },
   "outputs": [
    {
     "name": "stdout",
     "output_type": "stream",
     "text": [
      "6.0\n"
     ]
    }
   ],
   "source": [
    "# you will need the factorial method, imported above from scipy.misc\n",
    "print factorial(3)"
   ]
  },
  {
   "cell_type": "markdown",
   "metadata": {},
   "source": [
    "##5\n",
    "The paper assumes the diffusion constant for R6G is $2.8 \\times 10^{-6} \\,\\, \\frac{\\mathrm{cm}^2}{\\mathrm{sec}}$. Estimate the time required for a molecule to diffuse a distance of 250 nm, a reasonable estimate for the detection volume's size. You will need to find the relationship between the diffusion constant, the time for diffusion, and the distance that a randomly moving particle travels. How does this time relate to the dark periods described in the paper?"
   ]
  },
  {
   "cell_type": "markdown",
   "metadata": {},
   "source": [
    "##6\n",
    "From the paper and from the parameters given in this homework, estimate the time you would expect to see for the shorter dark periods and compare it with the observed time."
   ]
  },
  {
   "cell_type": "markdown",
   "metadata": {},
   "source": [
    "##7a\n",
    "If the nonradiative rate from the excited level were increased by 5 times. how would that change the behavior shown in the figures?"
   ]
  },
  {
   "cell_type": "markdown",
   "metadata": {},
   "source": [
    "##7b\n",
    "If the lifetime of the triplet state were 10 microseconds, how would the behaviors shown in the figures change?"
   ]
  },
  {
   "cell_type": "markdown",
   "metadata": {},
   "source": [
    "##7c\n",
    "If the quantum efficiency for bleaching were $10^{-3}$, how would the behaviors shown in the figures change? The quantum efficiency for bleaching is the ratio of the number of bleaching events to the total number of times that a molecule has been excited."
   ]
  },
  {
   "cell_type": "markdown",
   "metadata": {},
   "source": [
    "##7d\n",
    "If the excitation intensity were raised by a factor of 10, how would that change the behaviors you discussed in parts 7a-c?"
   ]
  }
 ],
 "metadata": {
  "kernelspec": {
   "display_name": "Python 2",
   "language": "python",
   "name": "python2"
  },
  "language_info": {
   "codemirror_mode": {
    "name": "ipython",
    "version": 2
   },
   "file_extension": ".py",
   "mimetype": "text/x-python",
   "name": "python",
   "nbconvert_exporter": "python",
   "pygments_lexer": "ipython2",
   "version": "2.7.10"
  }
 },
 "nbformat": 4,
 "nbformat_minor": 0
}
