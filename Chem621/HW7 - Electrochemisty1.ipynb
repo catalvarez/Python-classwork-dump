{
 "cells": [
  {
   "cell_type": "markdown",
   "metadata": {},
   "source": [
    "#HW7 - Electrochemistry"
   ]
  },
  {
   "cell_type": "code",
   "execution_count": 1,
   "metadata": {
    "collapsed": true
   },
   "outputs": [],
   "source": [
    "# imports\n",
    "import matplotlib\n",
    "import matplotlib.pyplot as plt\n",
    "%matplotlib inline\n",
    "matplotlib.rcParams['figure.figsize'] = [9, 6]\n",
    "matplotlib.rcParams['font.size'] = 11\n",
    "import numpy as np"
   ]
  },
  {
   "cell_type": "markdown",
   "metadata": {
    "collapsed": true
   },
   "source": [
    "A solution is prepared by mixing 50 mL of 0.01 M lithium napthalate (the reduced anion of napthalene), 5 mL of 0.02 M cupric nitrate, and 5 mL of 0.04 M buckminsterfullerene (C<sub>60</sub>). A platinum electrode is placed in the resulting solution. A second solution is prepared by inserting a silver electrode into a solution containing 0.10M sodium chloride. An AgCl coating is formed on the electrode by applying an external potential that oxidizes some of the Ag metal to create an AgCl precipitate at the surface. The coated Ag electrode is now ready to be used as one of the two half-cells for our measurements. A salt bridge is connected between two solutions and the potential is measured between the two electrodes with a high input impedance potentiometer.\n",
    "\n",
    "<img src=\"cell_potentials.png\" width=\"400\">"
   ]
  },
  {
   "cell_type": "markdown",
   "metadata": {},
   "source": [
    "##1\n",
    "What is the concentration of the dominant species after the first solution reaches equilibrium? (an example is C<sub>60</sub><sup>-</sup> = 1.67x10<sup>-3</sup> M)"
   ]
  },
  {
   "cell_type": "markdown",
   "metadata": {},
   "source": [
    "## 2\n",
    "What are the concentrations of all the species in the first solution after it reaches equilibrium? Include the concentrations of the minor species as well."
   ]
  },
  {
   "cell_type": "markdown",
   "metadata": {},
   "source": [
    "##3\n",
    "Draw two distribution diagrams that show the changes in the fractional distribution of all the species as a function of the cell potential. The first diagram should have a linear ordinate and the second a logaritmic ordinate. Can the Cu<sup>+</sup> coexist with the Cu<sup>2+</sup> and Cu<sup>0</sup> at equilibrium? "
   ]
  },
  {
   "cell_type": "markdown",
   "metadata": {},
   "source": [
    "##4\n",
    "What is the half cell potential of the first solution relative to a standard hydrogen electrode? (between -0.5 and 0.8 V)"
   ]
  },
  {
   "cell_type": "markdown",
   "metadata": {},
   "source": [
    "##5\n",
    "What is the half cell potential of the second solution relative to a standard hydrogen electrode? (0.28 V)"
   ]
  },
  {
   "cell_type": "markdown",
   "metadata": {},
   "source": [
    "##6\n",
    "What is the final cell potential?"
   ]
  },
  {
   "cell_type": "markdown",
   "metadata": {},
   "source": [
    "##7\n",
    "Which solution is the catode (electrode where reduction occurs) and which is the anode (electrode where oxidation occurs)?"
   ]
  },
  {
   "cell_type": "markdown",
   "metadata": {},
   "source": [
    "##8\n",
    "If the cell potential is measured with a voltmeter that requires 5 picoamperes of current for the measurement and if the voltage is measured for 1 hour, how much will the concentration of the dominant species change? Express your answer as a % change."
   ]
  },
  {
   "cell_type": "markdown",
   "metadata": {},
   "source": [
    "##9\n",
    "If a 100 milliampere current is drawn from this cell, how long will this cell provide current? Express your answer in hours."
   ]
  }
 ],
 "metadata": {
  "kernelspec": {
   "display_name": "Python 2",
   "language": "python",
   "name": "python2"
  },
  "language_info": {
   "codemirror_mode": {
    "name": "ipython",
    "version": 2
   },
   "file_extension": ".py",
   "mimetype": "text/x-python",
   "name": "python",
   "nbconvert_exporter": "python",
   "pygments_lexer": "ipython2",
   "version": "2.7.10"
  }
 },
 "nbformat": 4,
 "nbformat_minor": 0
}
