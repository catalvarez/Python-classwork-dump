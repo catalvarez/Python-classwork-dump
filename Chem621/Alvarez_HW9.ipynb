{
 "cells": [
  {
   "cell_type": "markdown",
   "metadata": {},
   "source": [
    "# HW9 - Wightman Paper"
   ]
  },
  {
   "cell_type": "code",
   "execution_count": 2,
   "metadata": {
    "collapsed": true
   },
   "outputs": [],
   "source": [
    "# imports\n",
    "import matplotlib\n",
    "import matplotlib.pyplot as plt\n",
    "%matplotlib inline\n",
    "matplotlib.rcParams['figure.figsize'] = [9, 6]\n",
    "matplotlib.rcParams['font.size'] = 11\n",
    "import numpy as np"
   ]
  },
  {
   "cell_type": "markdown",
   "metadata": {},
   "source": [
    "This homework focuses on the paper \"[Strategies for Low Detection Limit Measurements wih Cyclic Voltammetry](http://pubs.acs.org/doi/abs/10.1021/ac00024a030)\" by Mark Wightman's group at North Carolina. After reading the paper, answer the following questions.\n",
    "\n",
    "## 1\n",
    "What is the main goal of the research in this paper and why is it important for the Wightman research program?"
   ]
  },
  {
   "cell_type": "markdown",
   "metadata": {},
   "source": [
    "The main goal is to explore ways to improve the detection limit while simultaneously increasing the S/N ratio. This is relevant to the research program because measuring in vivo catecholamine requires a better sinal to noise than was previously obtained."
   ]
  },
  {
   "cell_type": "markdown",
   "metadata": {},
   "source": [
    "## 2\n",
    "What is Nafion and why is it usefull for science? Why does it improve the selectivity and sensitivity for catecholamines?"
   ]
  },
  {
   "cell_type": "markdown",
   "metadata": {},
   "source": [
    "Nafion is a perfluorinated ionomer that functions as a cation-exchange membrane. It improves selectivity and sensitivity by filtering out undesired anions such as dihydroxyphenylacetic acid, ascorbate, and uric acid, allowing primarily the catecholamine to pass through and be detected."
   ]
  },
  {
   "cell_type": "markdown",
   "metadata": {},
   "source": [
    "## 3\n",
    "Why do microelectrodes permit rapid cyclic voltammetry?"
   ]
  },
  {
   "cell_type": "markdown",
   "metadata": {},
   "source": [
    "They allow rapid but uniform changes in voltage that would be hard to achieve using a single, large electrode."
   ]
  },
  {
   "cell_type": "markdown",
   "metadata": {},
   "source": [
    "## 4\n",
    "Why is the background current large when the cyclic voltammetry is done with a fast scan rate?"
   ]
  },
  {
   "cell_type": "markdown",
   "metadata": {},
   "source": [
    "The background current can be thought of as the gradient between the bulk and the surface; when we scan quickly, the change at the electrode is more rapid, resulting in a larger difference between the bulk and the electrode (less time to diffuse), so we have a large current."
   ]
  },
  {
   "cell_type": "markdown",
   "metadata": {},
   "source": [
    "## 5\n",
    "Can you estimate the background current in their experiment from the information in the paper?"
   ]
  },
  {
   "cell_type": "markdown",
   "metadata": {},
   "source": [
    "They have already done the digital background subtraction on all of the data they present here, so its value is hard to estimate using just the paper. We are given the scan rate and the area of the electrode, but we need a bit more information to find the capacitance, from which we could then get the background current. However, they state that it is 33nA."
   ]
  },
  {
   "cell_type": "markdown",
   "metadata": {},
   "source": [
    "## 6\n",
    "The maximum gain was 100 nA V<sup>-1</sup>. Where did this value come from? Show how it is calculated. Why couldn't it be made larger?"
   ]
  },
  {
   "cell_type": "code",
   "execution_count": null,
   "metadata": {
    "collapsed": true
   },
   "outputs": [],
   "source": []
  },
  {
   "cell_type": "markdown",
   "metadata": {},
   "source": [
    "## 7\n",
    "What factor limits the scan rate that can be used in the experiments shown in Figure 3? Calculate what the limit should be using the information in the paper."
   ]
  },
  {
   "cell_type": "markdown",
   "metadata": {},
   "source": [
    "The increased noise at high band-pass limits the usable scan rate, in this case from the figure it appears that the limit is 12kHz, so using f = 40nv, the scan rate should be limited at 600."
   ]
  },
  {
   "cell_type": "markdown",
   "metadata": {},
   "source": [
    "## 8\n",
    "The authors state that Johnson noise is the fundamental limit to their method. What is Johnson noise? Equation 2 describes it. Provide an intuitive picture for why it depends on temperature, resistance, and frequency."
   ]
  },
  {
   "cell_type": "markdown",
   "metadata": {},
   "source": [
    "Johnson noise is random noise from the motion of electrons in the resistor in the i to v transducer. It makes sense that this is dependent on temperature, because an increase in temperature should increase the magnitude of these random motions. The same concept can be applied to frequency; an increased frequency has increased the random motions of the electrons. The relationship to resistance is slightly less intuitive. The higher the resistance, the longer it takes the electrons to move through the area, increasing the amount of random motion we see for each electron."
   ]
  },
  {
   "cell_type": "markdown",
   "metadata": {},
   "source": [
    "## 9\n",
    "Give an intuitive explanation for why the 4 cyclic voltammograms in Figure 3 are different and highlight the important point or points the figure illustrates. What is the purpose of the figure?"
   ]
  },
  {
   "cell_type": "markdown",
   "metadata": {},
   "source": [
    "As the bandpass is decreased, the voltammograms appear smoother. The main point of this figure is to illustrate the balance between a decreased f (and thus a better S/N), and the over-filtering that can happen for too low f, where the peak is shifted and the amplitude is decreased."
   ]
  },
  {
   "cell_type": "markdown",
   "metadata": {},
   "source": [
    "## 10\n",
    "Page 2968 states the Nyquist criterion is 5 Hz. How did the authors determine that value?"
   ]
  },
  {
   "cell_type": "markdown",
   "metadata": {},
   "source": [
    "This is just 1 scan/100 ms collection rate times 1/2, to get 5 Hz."
   ]
  },
  {
   "cell_type": "markdown",
   "metadata": {},
   "source": [
    "## 11\n",
    "The authors take data at specific times that are synchronized to the line frequency. Explain why they do this. Explain also why the authors are concerned about variations in the line frequency when they are only changing by 0.003%."
   ]
  },
  {
   "cell_type": "markdown",
   "metadata": {},
   "source": [
    "They take these specific times to eliminate the 60 Hz component that is not part of the measured signal. They are concerned because if these times are not exact multiples, the sum and difference frequencies will add a low frequency component to the waveform- essentially they've added more noise artificially!"
   ]
  },
  {
   "cell_type": "markdown",
   "metadata": {},
   "source": [
    "## 12\n",
    "On page 2969, the authors state they have a theoretical detection limit of 789 nM. They used a simulation to obtain this value. We have derived expressions for the maximum current for both the rapidly stirred cell where diffusion is not important and the case where it is important. Use one of the equations, the information in the paper, and make your own estimate of the theoretical detection limit using the information in their paper and compare it with their estimate. The diffusion constant for dopamine is 6x10<sup>-6</sup> cm<sup>2</sup> sec<sup>-1</sup>."
   ]
  },
  {
   "cell_type": "code",
   "execution_count": null,
   "metadata": {
    "collapsed": true
   },
   "outputs": [],
   "source": [
    "D = 6e-6\n",
    "#l = nFADC/sqrt(pi*Dt)"
   ]
  },
  {
   "cell_type": "markdown",
   "metadata": {},
   "source": [
    "## 13\n",
    "On the same page, the authors find that the slope of the peak current vs the concentration was 0.335 pA nM<sup>-1</sup>. Make your own calculation for what the solpe should be and compare it with their measured slope. State any assumptions or estimates you need to obtain an answer."
   ]
  },
  {
   "cell_type": "code",
   "execution_count": null,
   "metadata": {
    "collapsed": true
   },
   "outputs": [],
   "source": []
  },
  {
   "cell_type": "markdown",
   "metadata": {},
   "source": [
    "## 14\n",
    "For 5 points extra credit.\n",
    "\n",
    "The authors used low-pass digital filtering of the data. Implement their technique using the cyclic voltammogram simulation from the previous homework. Use the same conditions for Figure 3A. Add noise to the data like you did in homework 2. Do the Fourier transform like in homework 5. Apodize the transform. Fourier transform back to recreate the voltammogram."
   ]
  },
  {
   "cell_type": "code",
   "execution_count": 5,
   "metadata": {
    "collapsed": false
   },
   "outputs": [
    {
     "ename": "ValueError",
     "evalue": "scale <= 0",
     "output_type": "error",
     "traceback": [
      "\u001b[1;31m---------------------------------------------------------------------------\u001b[0m",
      "\u001b[1;31mValueError\u001b[0m                                Traceback (most recent call last)",
      "\u001b[1;32m<ipython-input-5-3dc67d96d40a>\u001b[0m in \u001b[0;36m<module>\u001b[1;34m()\u001b[0m\n\u001b[0;32m     44\u001b[0m \u001b[0marea\u001b[0m \u001b[1;33m=\u001b[0m \u001b[1;36m1.\u001b[0m\u001b[1;33m\u001b[0m\u001b[0m\n\u001b[0;32m     45\u001b[0m \u001b[0mI\u001b[0m \u001b[1;33m=\u001b[0m \u001b[0mn\u001b[0m\u001b[1;33m*\u001b[0m\u001b[0mF\u001b[0m\u001b[1;33m*\u001b[0m\u001b[0marea\u001b[0m\u001b[1;33m*\u001b[0m\u001b[0mDO\u001b[0m\u001b[1;33m*\u001b[0m\u001b[1;33m(\u001b[0m\u001b[0mO\u001b[0m\u001b[1;33m[\u001b[0m\u001b[1;36m1\u001b[0m\u001b[1;33m]\u001b[0m\u001b[1;33m-\u001b[0m\u001b[0mO\u001b[0m\u001b[1;33m[\u001b[0m\u001b[1;36m0\u001b[0m\u001b[1;33m]\u001b[0m\u001b[1;33m)\u001b[0m\u001b[1;33m/\u001b[0m\u001b[0mdz\u001b[0m\u001b[1;33m\u001b[0m\u001b[0m\n\u001b[1;32m---> 46\u001b[1;33m \u001b[0mI_noise\u001b[0m \u001b[1;33m=\u001b[0m \u001b[0mnp\u001b[0m\u001b[1;33m.\u001b[0m\u001b[0mrandom\u001b[0m\u001b[1;33m.\u001b[0m\u001b[0mnormal\u001b[0m\u001b[1;33m(\u001b[0m\u001b[1;36m0\u001b[0m\u001b[1;33m,\u001b[0m\u001b[0mI\u001b[0m\u001b[1;33m**\u001b[0m\u001b[1;36m2\u001b[0m\u001b[1;33m,\u001b[0m\u001b[0mI\u001b[0m\u001b[1;33m)\u001b[0m\u001b[1;33m\u001b[0m\u001b[0m\n\u001b[0m\u001b[0;32m     47\u001b[0m \u001b[0mplt\u001b[0m\u001b[1;33m.\u001b[0m\u001b[0mplot\u001b[0m\u001b[1;33m(\u001b[0m\u001b[0mE\u001b[0m\u001b[1;33m,\u001b[0m \u001b[0mI_noise\u001b[0m\u001b[1;33m)\u001b[0m\u001b[1;33m\u001b[0m\u001b[0m\n\u001b[0;32m     48\u001b[0m \u001b[0mplt\u001b[0m\u001b[1;33m.\u001b[0m\u001b[0mxlim\u001b[0m\u001b[1;33m(\u001b[0m\u001b[0mE\u001b[0m\u001b[1;33m.\u001b[0m\u001b[0mmax\u001b[0m\u001b[1;33m(\u001b[0m\u001b[1;33m)\u001b[0m\u001b[1;33m,\u001b[0m \u001b[0mE\u001b[0m\u001b[1;33m.\u001b[0m\u001b[0mmin\u001b[0m\u001b[1;33m(\u001b[0m\u001b[1;33m)\u001b[0m\u001b[1;33m)\u001b[0m\u001b[1;33m\u001b[0m\u001b[0m\n",
      "\u001b[1;32mmtrand.pyx\u001b[0m in \u001b[0;36mmtrand.RandomState.normal (numpy\\random\\mtrand\\mtrand.c:12147)\u001b[1;34m()\u001b[0m\n",
      "\u001b[1;31mValueError\u001b[0m: scale <= 0"
     ]
    }
   ],
   "source": [
    "# simulation variables\n",
    "t = np.linspace(0, 1.75, 3.5e3)\n",
    "z = np.linspace(0, 0.01, 20)\n",
    "dt = t[1]-t[0]\n",
    "dz = z[1]-z[0]\n",
    "\n",
    "# E(t)\n",
    "Ei = 0.4  # initial \n",
    "v = 1. # rate\n",
    "E = np.zeros(len(t))\n",
    "turnaround_index = len(t)/2\n",
    "E[:turnaround_index] = Ei-v*t[:turnaround_index]  # decending region\n",
    "E[turnaround_index:] = Ei-v*0.5*t.max()+v*t[:turnaround_index]  # ascending region\n",
    "\n",
    "F = 96500.\n",
    "R = 8.314\n",
    "T = 300.\n",
    "a = F/(R*T)\n",
    "n = 1.\n",
    "E0 = -0.1\n",
    "\n",
    "# R and O arrays\n",
    "CR = 1e-5  # initial R concentration\n",
    "CO = 0.1  # initial O concentration\n",
    "DR = 1e-5  # R diffusion coefficient \n",
    "DO = DR  # O diffusion coefficient\n",
    "# R and O are concentration arrays in (space, time)\n",
    "R = np.zeros([len(z), len(t)])\n",
    "O = np.zeros([len(z), len(t)])\n",
    "# set concentration in all space for zero time\n",
    "R[:, 0] = CR\n",
    "O[:, 0] = CO\n",
    "# set concentration for all time at furthest distance from electrode\n",
    "R[-1, :] = CR\n",
    "O[-1, :] = CO\n",
    "for j in range(1, len(t)):\n",
    "    R[0, j] = (1./(1+np.exp(n*a*(E[j]-E0))))*(O[0, j-1]+R[0, j-1])\n",
    "    O[0, j] = ((np.exp(n*a*(E[j]-E0)))/(1+np.exp(n*a*(E[j]-E0))))*(O[0, j-1]+R[0, j-1])\n",
    "    for i in range(1, len(z)-1):\n",
    "        R[i, j] = R[i, j-1]+(dt*DR*(R[i+1, j-1]-2*R[i, j-1]+R[i-1, j-1]))/(dz**2)\n",
    "        O[i, j] = O[i, j-1]+(dt*DO*(O[i+1, j-1]-2*O[i, j-1]+O[i-1, j-1]))/(dz**2)\n",
    "\n",
    "# current\n",
    "area = 1.\n",
    "I = n*F*area*DO*(O[1]-O[0])/dz\n",
    "I_noise = np.random.normal(I**2,I)\n",
    "plt.plot(E, I_noise)\n",
    "plt.xlim(E.max(), E.min())\n",
    "plt.xlabel('E')\n",
    "plt.ylabel('I')\n",
    "plt.grid()"
   ]
  },
  {
   "cell_type": "code",
   "execution_count": null,
   "metadata": {
    "collapsed": true
   },
   "outputs": [],
   "source": []
  }
 ],
 "metadata": {
  "kernelspec": {
   "display_name": "Python 2",
   "language": "python",
   "name": "python2"
  },
  "language_info": {
   "codemirror_mode": {
    "name": "ipython",
    "version": 2
   },
   "file_extension": ".py",
   "mimetype": "text/x-python",
   "name": "python",
   "nbconvert_exporter": "python",
   "pygments_lexer": "ipython2",
   "version": "2.7.8"
  }
 },
 "nbformat": 4,
 "nbformat_minor": 0
}
