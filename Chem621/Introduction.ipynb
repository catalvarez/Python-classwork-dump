{
 "cells": [
  {
   "cell_type": "markdown",
   "metadata": {},
   "source": [
    "# Chemistry 621 - Introduction to Ipython Notebooks\n",
    "\n",
    "## Basics\n",
    "\n",
    "Ipython Notebooks work based on cells. The user interacts with one cell at a time.\n",
    "\n",
    "Each cell has a type, chosen in the pulldown menu above. The default type is 'Code', where you enter your python code. The other important type is 'Markdown', which is used to enter text into the notebook. This is a markdown cell. Double click on markdown cells to edit them. New cells can be added using the + button above.\n",
    "\n",
    "Cells can be run using the go button in the menu bar, or with Shift+Enter. Code can be excecuted in any order. It is best practice to ensure that your notebook works properly when excecuted from top to bottom."
   ]
  },
  {
   "cell_type": "markdown",
   "metadata": {},
   "source": []
  },
  {
   "cell_type": "code",
   "execution_count": 4,
   "metadata": {
    "collapsed": false
   },
   "outputs": [
    {
     "name": "stdout",
     "output_type": "stream",
     "text": [
      "9\n"
     ]
    }
   ],
   "source": [
    "# this is a comment inside of a code cell\n",
    "# comments are ignored when a cell is ran\n",
    "# lets do some simple math\n",
    "print 4 + 5"
   ]
  },
  {
   "cell_type": "markdown",
   "metadata": {},
   "source": [
    "## Importing packages\n",
    "\n",
    "You'll see that we will be importing a lot of packages that extend python allowing us to do more math, make plots etc. Don't worry about learning the details of this, we'll make sure to tell you what packages you'll need for each homework.\n",
    "\n",
    "For now let's just import all the packages we'll need for this introduction and check their versions. You can check the versions against the 'Python instructions' document."
   ]
  },
  {
   "cell_type": "code",
   "execution_count": 2,
   "metadata": {
    "collapsed": false
   },
   "outputs": [],
   "source": [
    "import sys\n",
    "import IPython\n",
    "import scipy\n",
    "import matplotlib\n",
    "import matplotlib.pyplot as plt\n",
    "%matplotlib inline\n",
    "matplotlib.rcParams['figure.figsize'] = [9, 6]\n",
    "matplotlib.rcParams['font.size'] = 11\n",
    "import numpy as np"
   ]
  },
  {
   "cell_type": "code",
   "execution_count": 3,
   "metadata": {
    "collapsed": false
   },
   "outputs": [
    {
     "name": "stdout",
     "output_type": "stream",
     "text": [
      "2.7.8 |Anaconda 2.1.0 (64-bit)| (default, Jul  2 2014, 15:12:11) [MSC v.1500 64 bit (AMD64)]\n",
      "4.0.0\n",
      "0.14.0\n",
      "1.4.0\n",
      "1.9.0\n"
     ]
    }
   ],
   "source": [
    "print sys.version\n",
    "print IPython.__version__\n",
    "print scipy.__version__\n",
    "print matplotlib.__version__\n",
    "print np.__version__"
   ]
  },
  {
   "cell_type": "markdown",
   "metadata": {},
   "source": [
    "## Entering Code: Autocomplete\n",
    "\n",
    "Ipython Notebooks have autocomplete and help features to help users out. Lets explore the numpy module (imported above as 'np'). \n",
    "\n",
    "Create a new code cell below (using the + button in the menu) and type 'np.' then Tab. This brings up all of the properties of the numpy module. If you now start typing letters, the list will narrow down based on what you've already typed. You can press Enter to choose the selected option."
   ]
  },
  {
   "cell_type": "code",
   "execution_count": null,
   "metadata": {
    "collapsed": true
   },
   "outputs": [],
   "source": [
    "np"
   ]
  },
  {
   "cell_type": "markdown",
   "metadata": {},
   "source": [
    "## Entering Code: Documentation\n",
    "\n",
    "Most every object and  method you will interact with will have very extensive documentation. The following cell, when run, will show the documentation for the sine method contained in numpy. It is an intimidating amount of information. The only really important stuff is in the docstring right at the beginning."
   ]
  },
  {
   "cell_type": "code",
   "execution_count": 4,
   "metadata": {
    "collapsed": false
   },
   "outputs": [],
   "source": [
    "np.sin?"
   ]
  },
  {
   "cell_type": "markdown",
   "metadata": {},
   "source": [
    "##Entering Code: Namespace"
   ]
  },
  {
   "cell_type": "markdown",
   "metadata": {},
   "source": [
    "Namespace refers to the set of objects that you have access to in your notebook. If you give an object a name in an executed cell, you can refer to that object again in any other cell (above or below) in the notebook.\n",
    "\n",
    "Let's create an object 'my_object' that will reference a number. We'll start it at the number 12."
   ]
  },
  {
   "cell_type": "code",
   "execution_count": 5,
   "metadata": {
    "collapsed": true
   },
   "outputs": [],
   "source": [
    "my_object = 12."
   ]
  },
  {
   "cell_type": "markdown",
   "metadata": {},
   "source": [
    "Now let's access my_object from a different cell."
   ]
  },
  {
   "cell_type": "code",
   "execution_count": 6,
   "metadata": {
    "collapsed": false
   },
   "outputs": [
    {
     "name": "stdout",
     "output_type": "stream",
     "text": [
      "12.0\n"
     ]
    }
   ],
   "source": [
    "print my_object"
   ]
  },
  {
   "cell_type": "markdown",
   "metadata": {},
   "source": [
    "This is all well and good, but beware of namespace-based errors! Try and write your code so that you are not accidentally overwriting an old name.\n",
    "\n",
    "As an example of one simple unintuitive behavior, try executing the following cell a couple of times."
   ]
  },
  {
   "cell_type": "code",
   "execution_count": 9,
   "metadata": {
    "collapsed": false
   },
   "outputs": [
    {
     "name": "stdout",
     "output_type": "stream",
     "text": [
      "96.0\n"
     ]
    }
   ],
   "source": [
    "my_object = my_object*2\n",
    "print my_object"
   ]
  },
  {
   "cell_type": "markdown",
   "metadata": {},
   "source": [
    "Because of how namespace works in ipython notebooks, <b>we ask that you ensure that your notebook is 'clean' before submitting it as homework</b>. A clean notebook will work as expected when each cell is executed once from top to bottom.\n",
    "\n",
    "The easiest way to clear your namespace is to restart your kernal in the menu above. It is also possible through ipython magic %reset. I reccomend clearing your namespace and re-executing from the top cell periodically as you work on your homework."
   ]
  },
  {
   "cell_type": "markdown",
   "metadata": {},
   "source": [
    "## Syntax\n",
    "\n",
    "Python is a fully featured programming language that can take a lifetime to learn completely. Right now we'll just consider some very simple examples. We already saw above how to do addition, and how to see an output with print.\n",
    "\n",
    "Let's create some of our own objects now."
   ]
  },
  {
   "cell_type": "code",
   "execution_count": 8,
   "metadata": {
    "collapsed": true
   },
   "outputs": [],
   "source": [
    "a = 4.\n",
    "b = 7."
   ]
  },
  {
   "cell_type": "markdown",
   "metadata": {
    "collapsed": true
   },
   "source": [
    "These objects have a type and a value."
   ]
  },
  {
   "cell_type": "code",
   "execution_count": 9,
   "metadata": {
    "collapsed": false
   },
   "outputs": [
    {
     "name": "stdout",
     "output_type": "stream",
     "text": [
      "4.0\n",
      "<type 'float'>\n",
      "7.0\n",
      "<type 'float'>\n"
     ]
    }
   ],
   "source": [
    "print a\n",
    "print type(a)\n",
    "print b\n",
    "print type(b)"
   ]
  },
  {
   "cell_type": "markdown",
   "metadata": {},
   "source": [
    "Note that the decimal points used when a and b were created defined them as type float rather than type int. It is important to use floating point numbers because python uses integer division (try '3/2' vs '3./2.' to see this in action).\n",
    "\n",
    "Let's list some common mathematical operations now. Some operations use the numpy module."
   ]
  },
  {
   "cell_type": "code",
   "execution_count": 10,
   "metadata": {
    "collapsed": false
   },
   "outputs": [
    {
     "data": {
      "text/plain": [
       "24"
      ]
     },
     "execution_count": 10,
     "metadata": {},
     "output_type": "execute_result"
    }
   ],
   "source": [
    "# addition\n",
    "a + b\n",
    "# subtraction\n",
    "a - b\n",
    "# multiplication\n",
    "a * b\n",
    "# division\n",
    "a / b\n",
    "# exponent\n",
    "a ** b\n",
    "# cosine\n",
    "np.cos(a)\n",
    "# natural log\n",
    "np.log(a)\n",
    "# base 10 log\n",
    "np.log10(a)\n",
    "# factorial\n",
    "np.math.factorial(a)"
   ]
  },
  {
   "cell_type": "markdown",
   "metadata": {},
   "source": [
    "Arrays are very useful in python. np.linspace is probaby the most useful way to create an array."
   ]
  },
  {
   "cell_type": "code",
   "execution_count": 11,
   "metadata": {
    "collapsed": false
   },
   "outputs": [
    {
     "name": "stdout",
     "output_type": "stream",
     "text": [
      "[-1.  -0.4  0.2  0.8  1.4  2.   2.6  3.2  3.8  4.4  5. ]\n"
     ]
    }
   ],
   "source": [
    "arr = np.linspace(-1, 5, 11)\n",
    "print arr"
   ]
  },
  {
   "cell_type": "markdown",
   "metadata": {},
   "source": [
    "The three inputs to the linspace method define the start point, stop point, and number of points in the returned array.\n",
    "\n",
    "Arrays have some useful properties and methods that you can use to keep track of what you are doing."
   ]
  },
  {
   "cell_type": "code",
   "execution_count": 12,
   "metadata": {
    "collapsed": false
   },
   "outputs": [
    {
     "name": "stdout",
     "output_type": "stream",
     "text": [
      "(11L,)\n",
      "11\n",
      "-1.0\n",
      "5.0\n"
     ]
    }
   ],
   "source": [
    "print arr.shape\n",
    "print arr.size\n",
    "print arr.min()\n",
    "print arr.max()"
   ]
  },
  {
   "cell_type": "markdown",
   "metadata": {},
   "source": [
    "Elements of an array can be accessed using square brackets. Indexing starts at zero."
   ]
  },
  {
   "cell_type": "code",
   "execution_count": 13,
   "metadata": {
    "collapsed": false
   },
   "outputs": [
    {
     "name": "stdout",
     "output_type": "stream",
     "text": [
      "-1.0\n",
      "-0.4\n",
      "4.4\n",
      "5.0\n"
     ]
    }
   ],
   "source": [
    "print arr[0]\n",
    "print arr[1]\n",
    "print arr[9]\n",
    "# you can count backwards from the end of an array with negative numbers starting at negative one\n",
    "print arr[-1]"
   ]
  },
  {
   "cell_type": "markdown",
   "metadata": {},
   "source": [
    "Math can be done with arrays."
   ]
  },
  {
   "cell_type": "code",
   "execution_count": 14,
   "metadata": {
    "collapsed": false
   },
   "outputs": [
    {
     "name": "stdout",
     "output_type": "stream",
     "text": [
      "[ -2.   -0.8   0.4   1.6   2.8   4.    5.2   6.4   7.6   8.8  10. ]\n"
     ]
    }
   ],
   "source": [
    "print arr*2"
   ]
  },
  {
   "cell_type": "markdown",
   "metadata": {},
   "source": [
    "It is often helpful to write simple functions to encapsulate pieces of code that you will be running multiple times. Functions take inputs and can return something. np.cos is an example of a function that we use above.\n",
    "\n",
    "Let's define a simple function that does some math based on two inputs."
   ]
  },
  {
   "cell_type": "code",
   "execution_count": 15,
   "metadata": {
    "collapsed": true
   },
   "outputs": [],
   "source": [
    "def func(a, b):\n",
    "    c = a * np.log(b)\n",
    "    out = c ** 42.\n",
    "    return out"
   ]
  },
  {
   "cell_type": "code",
   "execution_count": 16,
   "metadata": {
    "collapsed": false
   },
   "outputs": [
    {
     "name": "stdout",
     "output_type": "stream",
     "text": [
      "0.0\n",
      "2.06380834361e-07\n",
      "[  9.07672509e+05   1.75569397e-11   3.99198591e-24   7.72162374e+01\n",
      "   1.24539375e+12   3.99198591e+18   2.43674339e+23   1.49357925e+27\n",
      "   2.03629287e+30   9.61482965e+32   2.06380834e+35]\n"
     ]
    }
   ],
   "source": [
    "print func(0, 1)\n",
    "print func(1, 2)\n",
    "print func(arr, 4)"
   ]
  },
  {
   "cell_type": "markdown",
   "metadata": {},
   "source": [
    "We'll introduce more details slowly in the context of future homeworks."
   ]
  },
  {
   "cell_type": "markdown",
   "metadata": {},
   "source": [
    "## Plotting"
   ]
  },
  {
   "cell_type": "markdown",
   "metadata": {},
   "source": [
    "Make simple plots using plt.plot. We might introduce more complicated plotting environments in the context of particular assignments later on.\n",
    "\n",
    "plt.scatter can be called in the exact same way and creates a scatter plot rather than a line plot."
   ]
  },
  {
   "cell_type": "code",
   "execution_count": 17,
   "metadata": {
    "collapsed": false
   },
   "outputs": [
    {
     "data": {
      "image/png": "[encoded data removed]",
      "text/plain": [
       "<matplotlib.figure.Figure at 0xa2c5278>"
      ]
     },
     "metadata": {},
     "output_type": "display_data"
    }
   ],
   "source": [
    "# define some arrays and plot them\n",
    "xi0 = np.linspace(0, 25, 100)\n",
    "yi0 = np.sin(xi0)\n",
    "plt.plot(xi0, yi0)\n",
    "\n",
    "# another array on the same plot\n",
    "yi1 = np.cos(xi0)\n",
    "plt.plot(xi0, yi1)\n",
    "\n",
    "# axis labels\n",
    "plt.xlabel('x label')\n",
    "plt.ylabel('y label')\n",
    "\n",
    "# make a legend\n",
    "plt.legend(['sin', 'cos'])\n",
    "\n",
    "# I like to add grid lines to my plots\n",
    "plt.grid()"
   ]
  },
  {
   "cell_type": "markdown",
   "metadata": {},
   "source": [
    "## $\\LaTeX$ in Markdown\n",
    "\n",
    "$\\LaTeX$ is a very popular language for typing mathematical formulas. $\\LaTeX$ can be rendered in Ipython Notebooks directly when entered into markdown, as shown here. There are great introductions to $\\LaTeX$ online for those unfamiliar with the language.\n",
    "\n",
    "Here is one of our favorite equations:\n",
    "\n",
    "$\\rho_{ag} = \\frac{\\Omega_{ag}\\left(\\delta_{ag}+i\\Gamma_{ag}\\right)}{2\\left(\\delta_{ag}^2+i\\Gamma^2\\right)}\\rho_{gg}$"
   ]
  },
  {
   "cell_type": "markdown",
   "metadata": {},
   "source": [
    "## More Resources \n",
    "\n",
    "Online documentation is python is extensive and very helpful. Google will almost always give you the answer to a simple question (if you know how to ask it).\n",
    "\n",
    "Here is a short list of resources that may be helpful to you.\n",
    "\n",
    "* [Numpy for MATLAB users](http://mathesaurus.sourceforge.net/matlab-numpy.html)\n",
    "* [Scipy - Getting Started](http://www.scipy.org/getting-started.html)\n",
    "* [The Ipython Notebook](http://ipython.org/notebook.html)\n"
   ]
  }
 ],
 "metadata": {
  "kernelspec": {
   "display_name": "Python 2",
   "language": "python",
   "name": "python2"
  },
  "language_info": {
   "codemirror_mode": {
    "name": "ipython",
    "version": 2
   },
   "file_extension": ".py",
   "mimetype": "text/x-python",
   "name": "python",
   "nbconvert_exporter": "python",
   "pygments_lexer": "ipython2",
   "version": "2.7.8"
  }
 },
 "nbformat": 4,
 "nbformat_minor": 0
}
