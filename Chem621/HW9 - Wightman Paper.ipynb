{
 "cells": [
  {
   "cell_type": "markdown",
   "metadata": {},
   "source": [
    "#HW9 - Wightman Paper"
   ]
  },
  {
   "cell_type": "code",
   "execution_count": 1,
   "metadata": {
    "collapsed": true
   },
   "outputs": [],
   "source": [
    "# imports\n",
    "import matplotlib\n",
    "import matplotlib.pyplot as plt\n",
    "%matplotlib inline\n",
    "matplotlib.rcParams['figure.figsize'] = [9, 6]\n",
    "matplotlib.rcParams['font.size'] = 11\n",
    "import numpy as np"
   ]
  },
  {
   "cell_type": "markdown",
   "metadata": {},
   "source": [
    "This homework focuses on the paper \"[Strategies for Low Detection Limit Measurements wih Cyclic Voltammetry](http://pubs.acs.org/doi/abs/10.1021/ac00024a030)\" by Mark Wightman's group at North Carolina. After reading the paper, answer the following questions.\n",
    "\n",
    "Remember that you can define cells as markdown to enter text easily in ipython notebooks. Many of the questions in this homework do not require calculations.\n",
    "\n",
    "##1\n",
    "What is the main goal of the research in this paper and why is it important for the Wightman research program?"
   ]
  },
  {
   "cell_type": "markdown",
   "metadata": {},
   "source": [
    "##2\n",
    "What is Nafion and why is it usefull for science? Why does it improve the selectivity and sensitivity for catecholamines?"
   ]
  },
  {
   "cell_type": "markdown",
   "metadata": {},
   "source": [
    "##3\n",
    "Why do microelectrodes permit rapid cyclic voltammetry?"
   ]
  },
  {
   "cell_type": "markdown",
   "metadata": {},
   "source": [
    "##4\n",
    "Why is the background current large when the cyclic voltammetry is done with a fast scan rate?"
   ]
  },
  {
   "cell_type": "markdown",
   "metadata": {},
   "source": [
    "##5\n",
    "Can you estimate the background current in their experiment from the information in the paper?"
   ]
  },
  {
   "cell_type": "markdown",
   "metadata": {},
   "source": [
    "##6\n",
    "The maximum gain was 100 nA V<sup>-1</sup>. Where did this value come from? Show how it is calculated. Why couldn't it be made larger?"
   ]
  },
  {
   "cell_type": "markdown",
   "metadata": {},
   "source": [
    "##7\n",
    "What factor limits the scan rate that can be used in the experiments shown in Figure 3? Calculate what the limit should be using the information in the paper."
   ]
  },
  {
   "cell_type": "markdown",
   "metadata": {},
   "source": [
    "##8\n",
    "The authors state that Johnson noise is the fundamental limit to their method. What is Johnson noise? Equation 2 describes it. Provide an intuitive picture for why it depends on temperature, resistance, and frequency."
   ]
  },
  {
   "cell_type": "markdown",
   "metadata": {},
   "source": [
    "##9\n",
    "Give an intuitive explanation for why the 4 cyclic voltammograms in Figure 3 are different and highlight the important point or points the figure illustrates. What is the purpose of the figure?"
   ]
  },
  {
   "cell_type": "markdown",
   "metadata": {},
   "source": [
    "##10\n",
    "Page 2968 states the Nyquist criterion is 5 Hz. How did the authors determine that value?"
   ]
  },
  {
   "cell_type": "markdown",
   "metadata": {},
   "source": [
    "## 11\n",
    "The authors take data at specific times that are synchronized to the line frequency. Explain why they do this. Explain also why the authors are concerned about variations in the line frequency when they are only changing by 0.003%."
   ]
  },
  {
   "cell_type": "markdown",
   "metadata": {},
   "source": [
    "##12\n",
    "On page 2969, the authors state they have a theoretical detection limit of 789 nM. They used a simulation to obtain this value. We have derived expressions for the maximum current for both the rapidly stirred cell where diffusion is not important and the case where it is important. Use one of the equations, the information in the paper, and make your own estimate of the theoretical detection limit using the information in their paper and compare it with their estimate. The diffusion constant for dopamine is 6x10<sup>-6</sup> cm<sup>2</sup> sec<sup>-1</sup>."
   ]
  },
  {
   "cell_type": "markdown",
   "metadata": {},
   "source": [
    "##13\n",
    "On the same page, the authors find that the solpe of the peak current vs the concentration was 0.335 pA nM<sup>-1</sup>. Make your own calculation for what the solpe should be and compare it with their measured slope. State any assumptions or estimates you need to obtain an answer."
   ]
  },
  {
   "cell_type": "markdown",
   "metadata": {},
   "source": [
    "##14\n",
    "For 5 points extra credit.\n",
    "\n",
    "The authors used low-pass digital filtering of the data. Implement their technique using the cyclic voltammogram simulation from the previous homework. Use the same conditions for Figure 3A. Add noise to the data like you did in homework 2. Do the Fourier transform like in homework 5. Apodize the transform. Fourier transform back to recreate the voltammogram."
   ]
  }
 ],
 "metadata": {
  "kernelspec": {
   "display_name": "Python 2",
   "language": "python",
   "name": "python2"
  },
  "language_info": {
   "codemirror_mode": {
    "name": "ipython",
    "version": 2
   },
   "file_extension": ".py",
   "mimetype": "text/x-python",
   "name": "python",
   "nbconvert_exporter": "python",
   "pygments_lexer": "ipython2",
   "version": "2.7.10"
  }
 },
 "nbformat": 4,
 "nbformat_minor": 0
}
