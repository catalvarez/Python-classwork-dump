{
 "cells": [
  {
   "cell_type": "markdown",
   "metadata": {},
   "source": [
    "#HW10 - GC & HPLC Simulation"
   ]
  },
  {
   "cell_type": "code",
   "execution_count": 2,
   "metadata": {
    "collapsed": true
   },
   "outputs": [],
   "source": [
    "# imports\n",
    "import matplotlib\n",
    "import matplotlib.pyplot as plt\n",
    "%matplotlib inline\n",
    "matplotlib.rcParams['figure.figsize'] = [9, 6]\n",
    "matplotlib.rcParams['font.size'] = 11\n",
    "import numpy as np"
   ]
  },
  {
   "cell_type": "markdown",
   "metadata": {},
   "source": [
    "In this homework, you should assume a Gaussian peak shape given by the expression\n",
    "\n",
    "\\begin{equation}\\Large\n",
    "y = \\frac{1}{\\sigma \\sqrt{2 \\pi}} e^{- \\frac{(x-x_0)^2}{2 \\sigma^2}}\n",
    "\\end{equation}\n",
    "\n",
    "where $x_0$ is the center of the peak and $\\sigma$ is the standard deviation.\n",
    "\n",
    "##1\n",
    "Construct a simulation of an open tubular capillary GC using the parameters described below:\n",
    "\n",
    "| Name                            | Value                                |\n",
    "| ------------------------------- | ------------------------------------ |\n",
    "| Inside wall diameter            | 200 $\\mu$                            |\n",
    "| Stationary phase film thickness | 0.1 $\\mu$                            |\n",
    "| $\\gamma$, Obstruction factor    | 1                                    |\n",
    "| $q$, Shape factor               | 2/3 (for films)                      |\n",
    "| $D_m$                           | 0.1 cm<sup>2</sup> sec<sup>-1</sup>  |\n",
    "| $D_s$                           | 0.05 cm<sup>2</sup> sec<sup>-1</sup> |\n",
    "\n",
    "There are three components labeled A, B, and C. At 250&deg;C, the partition coefficients are 10<sup>3</sup>, 1.01x10<sup>3</sup>, and 10<sup>4</sup> for components A, B, and C, respectively. Their relative concentrations are 21%, 38%, and 50%, respectively. Design your G.C. so it provides a 10 minute retion time for component A. Assume that your eddy diffusion term (the A term in the van Deemter equation) is zero for a capillary column. The B and C terms in the van Deemter equation are:\n",
    "\n",
    "\\begin{equation}\\Large\n",
    "B = 2 \\gamma D_m\n",
    "\\end{equation}\n",
    "\n",
    "\\begin{equation}\\Large\n",
    "C = C_s + C_m\n",
    "\\end{equation}\n",
    "\n",
    "\\begin{equation}\\Large\n",
    "C_s = q \\frac{k^\\prime}{(1+k^\\prime)^2} \\frac{d_f^2}{D_s}\n",
    "\\end{equation}\n",
    "\n",
    "\\begin{equation}\\Large\n",
    "C_m = \\frac{1+6k^\\prime+11k^{\\prime 2}}{96(1+k^\\prime)^2D_m} d_c^2\n",
    "\\end{equation}\n",
    "\n",
    "##1a\n",
    "Find the following:\n",
    "\n",
    "| Parameter                              | Value                    |\n",
    "| -------------------------------------- | ------------------------ |\n",
    "| $\\beta$                                | 500                      |\n",
    "| $k_A^\\prime, k_B^\\prime, k_C^\\prime$   | 2, 2.02, 20              |\n",
    "| $\\mu_{\\mathrm{optimum}}$               | 27.5 cm sec<sup>-1</sup> |\n",
    "| $L$                                    | 55 m                     |\n",
    "| $N$                                    | 379,000                  |\n",
    "| $t_m$                                  | 200 sec                  |\n",
    "| Flow velocity for A                    | 9.2 cm sec<sup>-1</sup>  |\n",
    "| Resolution for A & B                   | 1.02                     |\n",
    "| Physical width of peaks A & C          |                          |\n",
    "| Temporal width of peaks A & C          |                          |\n",
    "| Ratio of retention time to peak width  | 615                      |"
   ]
  },
  {
   "cell_type": "code",
   "execution_count": 3,
   "metadata": {
    "collapsed": false
   },
   "outputs": [
    {
     "name": "stdout",
     "output_type": "stream",
     "text": [
      "[  8.93942052   8.94876338  10.22776032]\n",
      "[ 0.97461176  0.98110917  6.82228229]\n"
     ]
    }
   ],
   "source": [
    "# Constants\n",
    "N = 379000.0\n",
    "L = 5500.0 # cm\n",
    "t_m = 200.0 # s\n",
    "gamma = 1.0\n",
    "q = 2.0/3.0\n",
    "D_m = 0.1\n",
    "D_s = 0.05\n",
    "k_prime = np.array([2.0, 2.02, 20])\n",
    "d_f = 0.1e-4 # cm\n",
    "d_c = 200e-4 # cm\n",
    "u = 27.5 # cm s-1\n",
    "\n",
    "# van Deemter Equation\n",
    "B = 2.0*gamma*D_m\n",
    "C_s = q*k_prime/(1.0+k_prime)**2*d_f**2/D_s\n",
    "C_m = (1.0+6.0*k_prime+11.0*k_prime**2)/(96.0*(1+k_prime)**2*D_m)*d_c**2\n",
    "C = C_s + C_m\n",
    "H = B/u + C*u\n",
    "\n",
    "t_R = t_m*(1+k_prime)\n",
    "\n",
    "sigma_x = np.sqrt(H*L)\n",
    "sigma_t = t_R/np.sqrt(N)\n",
    "print sigma_x\n",
    "print sigma_t"
   ]
  },
  {
   "cell_type": "markdown",
   "metadata": {},
   "source": [
    "##1b\n",
    "Simulate a chromatogram that shows the correct retention times and widths for A, B, and C as well as the void volume (i.e. the unretained peak)."
   ]
  },
  {
   "cell_type": "code",
   "execution_count": 23,
   "metadata": {
    "collapsed": false
   },
   "outputs": [
    {
     "data": {
      "text/plain": [
       "[<matplotlib.lines.Line2D at 0xd9869b0>]"
      ]
     },
     "execution_count": 23,
     "metadata": {},
     "output_type": "execute_result"
    },
    {
     "data": {
      "image/png": "[encoded data removed]",
      "text/plain": [
       "<matplotlib.figure.Figure at 0xc61c5c0>"
      ]
     },
     "metadata": {},
     "output_type": "display_data"
    },
    {
     "data": {
      "image/png": "[encoded data removed]",
      "text/plain": [
       "<matplotlib.figure.Figure at 0xcce4ef0>"
      ]
     },
     "metadata": {},
     "output_type": "display_data"
    }
   ],
   "source": [
    "t = np.linspace(0,5000,10000)\n",
    "\n",
    "\n",
    "y = 1.0/(sigma_t[:,np.newaxis]*np.sqrt(2.0*np.pi))*np.exp(-(t[np.newaxis,:]-t_R[:,np.newaxis])**2/(2.0*sigma_t[:,np.newaxis]**2))\n",
    "\n",
    "chrom = np.sum(y,axis=0)\n",
    "\n",
    "fig = plt.figure(figsize=[16, 3])\n",
    "plt.plot(t,chrom)\n",
    "\n",
    "fig = plt.figure(figsize=[16, 3])\n",
    "plt.plot(t[400:2000],chrom[400:2000])"
   ]
  },
  {
   "cell_type": "markdown",
   "metadata": {},
   "source": [
    "##1c\n",
    "Create a similar van Deemter plot that can be used to determine the best column diameter. Discuss how column diameter is chosen based on your plot. Is it defined by the column parameters or is it defined by practical limitations? What physical process controls the optimum column diameter."
   ]
  },
  {
   "cell_type": "markdown",
   "metadata": {},
   "source": [
    "##2\n",
    "Create a simulation that shows the reverse phase chromatogram of a sample containing 9 different components. You will create a graph where the x axis is time and the y axis is analyte concentration. Water is the primary solvent (A) and THF is the secondary solvent (B). If $\\phi$ is the volume fraction of THF relative to water, the capacity factor for a binary solvent system is described by the equation:\n",
    "\n",
    "\\begin{equation}\\Large\n",
    "k^\\prime = k_w^\\prime 10^{-S \\phi}\n",
    "\\end{equation}\n",
    "\n",
    "where $k_w^\\prime$ and $S$ are constants for each component. Thus, $k^\\prime$ becomes $k_w^\\prime$ for a water mobile phase where $\\phi = 0$. The $\\phi$ values refer to a particular binary system so 40% THF and 60% H<sub>2</sub>O would correspond to $\\phi=0.40$. If one mixes one binary mixture with another, there will be $\\phi$ values for each binary system and the $k^\\prime$ value for the mixture will be roughly the average of the two. We label the 2 binary systems 1 and 2 and the relative fraction of each one is $c_1$ and $c_2$ so $c_1$ and $c_2$ add to one, $c2+c2=1$. The net $k^\\prime$ value will then be:\n",
    "\n",
    "\\begin{equation}\\Large\n",
    "k^\\prime = k_w^\\prime \\left(\\frac{c_1 10^{-S_1\\phi_1}+c_2 10^{-S_2 \\theta_2}}{c_1 + c_2}\\right)\n",
    "\\end{equation}\n",
    "\n",
    "The height equivalent to a theoretical plate is given by the van Deemeter equation with A, B, and C given by 0.00142, 0.11502, and 0.00142, respectively, when the flow rate is measured in cm minute<sup>-1</sup>. The column is 27 cm long. The $S$ and $k_w$ values for the different analytes in THF and ACN solvents are shown in the table below along with the amounts of the different materials.\n",
    "\n",
    "| Analyte | $S$ (THF) | $S$ (ACN) | $k_w$ (minutes) | micrograms |\n",
    "| ------- | --------- | --------- | --------------- | ---------- |\n",
    "| 1       | 3.5       | 4.3       | 15              | 1          |\n",
    "| 2       | 4         | 3.6       | 25              | 0.3        |\n",
    "| 3       | 4.3       | 4.1       | 65              | 3          |\n",
    "| 4       | 3.6       | 3.9       | 70              | 2.3        |\n",
    "| 5       | 4.1       | 4.4       | 75              | 4.2        |\n",
    "| 6       | 4.05      | 4.2       | 81              | 2          |\n",
    "| 7       | 3.5       | 3.7       | 81              | 1.4        |\n",
    "| 8       | 4.4       | 4         | 160             | 3          |\n",
    "| 9       | 3.7       | 3.5       | 210             | 1.3        |\n",
    "\n",
    "##2a\n",
    "Find the optimum flow rate and then find the number of plates on the column."
   ]
  },
  {
   "cell_type": "markdown",
   "metadata": {},
   "source": [
    "##2b\n",
    "Find the standard deviation for each peak when the x axis is time (sec). Is it different for each peak? Find the standard deviation that represents the spatial width (cm) of each peak. Is it different for each peak?"
   ]
  },
  {
   "cell_type": "markdown",
   "metadata": {},
   "source": [
    "##2c\n",
    "Graph the simulated chromatogram for each binary solvent individually for a volume fraction, $\\phi$, that provides $k^\\prime$ values in the optimum range $0.5 < k < 20$."
   ]
  },
  {
   "cell_type": "markdown",
   "metadata": {},
   "source": [
    "##2d\n",
    "Try two different mixtures of the two solvent systems (THF/water and ACN/water) and examine whether you can improve the separation using mixtures of the two systems or whether one system is adequate. Define a parameter that acts as a measure of the optimum mixture."
   ]
  }
 ],
 "metadata": {
  "kernelspec": {
   "display_name": "Python 2",
   "language": "python",
   "name": "python2"
  },
  "language_info": {
   "codemirror_mode": {
    "name": "ipython",
    "version": 2
   },
   "file_extension": ".py",
   "mimetype": "text/x-python",
   "name": "python",
   "nbconvert_exporter": "python",
   "pygments_lexer": "ipython2",
   "version": "2.7.8"
  }
 },
 "nbformat": 4,
 "nbformat_minor": 0
}
