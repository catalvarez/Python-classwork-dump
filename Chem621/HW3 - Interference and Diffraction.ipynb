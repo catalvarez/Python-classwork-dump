{
 "cells": [
  {
   "cell_type": "markdown",
   "metadata": {},
   "source": [
    "#HW3 - Interference and Diffraction"
   ]
  },
  {
   "cell_type": "code",
   "execution_count": 2,
   "metadata": {
    "collapsed": true
   },
   "outputs": [],
   "source": [
    "# imports\n",
    "import matplotlib\n",
    "import matplotlib.pyplot as plt\n",
    "%matplotlib inline\n",
    "matplotlib.rcParams['figure.figsize'] = [9, 6]\n",
    "matplotlib.rcParams['font.size'] = 11\n",
    "import numpy as np"
   ]
  },
  {
   "cell_type": "markdown",
   "metadata": {},
   "source": [
    "The wave nature of light leads to one of its most useful properties - interference. Since light is an oscillating electric field and since the net electric field is the sum of the electric fields from all sources, one can have any degree of constructive and destructive interference. The light field radiated by one dipole can be described by\n",
    "\n",
    "\\begin{equation}\\Large\n",
    "E(z, t) = E^0(t)e^{i\\left(\\vec{k} \\cdot \\vec{z} -\\omega t\\right)}\n",
    "\\end{equation}\n",
    "\n",
    "and that radiated by many dipoles can be described by\n",
    "\n",
    "\\begin{equation}\\Large\n",
    "E(z, t) = \\sum_n E^0(t) e^{i\\left(\\vec{k_n} \\cdot \\vec{z_n} -\\omega_n t_n\\right)}\n",
    "\\end{equation}\n",
    "\n",
    "The intensity (mks units) is calculated by finding\n",
    "\n",
    "\\begin{equation}\\Large\n",
    "I = \\frac{c \\epsilon_0 n_{\\mathrm{index}} \\xi}{2}|E(z, t)|^2\n",
    "\\end{equation}\n",
    "\n",
    "The cross-terms that result from $|E(z, t)|^2$ represent the interference between the two waves. For two waves,\n",
    "\n",
    "\\begin{equation}\\Large\n",
    "E(z, t) = E^0_1(t) e^{i\\left(\\vec{k_1} \\cdot \\vec{z_1}-\\omega_1 t_1\\right)} + E^0_2(t) e^{i\\left(\\vec{k_2} \\cdot \\vec{z_2}-\\omega_2 t_2\\right)} \n",
    "\\end{equation}\n",
    "\n",
    "and the cross-terms have the form\n",
    "\n",
    "\\begin{equation}\\Large\n",
    "E^0_1(t)E^0_2(t)e^{i\\left(\\vec{k_1}\\cdot\\vec{z_1}-\\vec{k_2}\\cdot\\vec{z_2}-\\omega_1 t_1 + \\omega_2 t_2\\right)}\n",
    "\\end{equation}\n",
    "\n",
    "If $t_1=t_2$ and $\\omega_1=\\omega_2$, this equation predicts interference fringes that depend on $\\vec{k_1}\\cdot\\vec{z_1}-\\vec{k_2}\\cdot\\vec{z_2}$. This homework looks at different cases for these spatial fringes.\n",
    "\n",
    "One can also have temporal fringes that are the analog of spatial fringes. In this case, we would keep constant values of $z$, $k$, and $\\omega$ and examine how the electric field and the intensity vary in time. Temporal fringes play the central role in making femtosecond ultrafast laser pulses. But we will concentrate on spatial fringes."
   ]
  },
  {
   "cell_type": "markdown",
   "metadata": {
    "collapsed": true
   },
   "source": [
    "##1 \n",
    "The guidelines for understanding the behavior of interference patterns state that the direction of the maxima where there is constructive interference depends upon the minimum path difference between pathways while the sharpness of the maxima depends up on the maximum path difference. This problem is intended to examine the truth of these guidelines by creating cases where either the cases have the same minimum path differences or the same maximum path differences.\n",
    "\n",
    "Consider two infinitely thin slit sources seperated by a distance, $d$. They emit light coherently at 500 nm so they have the same values of $\\omega$ and they are measured at the same time $(t_1=t_2)$. Their light appears on a screen that is 1 meter from the sources.\n",
    "\n",
    "##1a\n",
    "Assume $d$=5 microns. Use the condition for constructive interference to predict the positions of the n=0, 1, and 2 orders of interference (i.e. the number of addtional oscillations that one beam experiences because of the additional travel distance)."
   ]
  },
  {
   "cell_type": "markdown",
   "metadata": {},
   "source": [
    "##1b\n",
    "Develop a condition for destructive interference and predict the position for the destructive interference that occurs between n=0, 1, and 2. What is the physical distance (in cm) between having maximum constructive and destructive interference?"
   ]
  },
  {
   "cell_type": "markdown",
   "metadata": {},
   "source": [
    "##1c\n",
    "Change d to 20 microns and predict the position for constructive and destructive interference for n between 0 and 5."
   ]
  },
  {
   "cell_type": "markdown",
   "metadata": {},
   "source": [
    "##1d\n",
    "One of the fringes for this case overlaps with a fringe that you calculated for the $d$=5 micron case. Which fringe overlaps?"
   ]
  },
  {
   "cell_type": "markdown",
   "metadata": {},
   "source": [
    "##1e\n",
    "Calculate the physical distance between the constructive and destructive interference for the n=4 fringe when $d$=20 microns. If you compare the value with that calculated in part b, you will see that the fringes are much sharper."
   ]
  },
  {
   "cell_type": "markdown",
   "metadata": {},
   "source": [
    "##1f\n",
    "Create a graph of the interference pattern on the screen for the d=5 microns and d=20 microns cases described above and a third case where there are 8 slits spaced 5 microns apart. Compare the three cases to identify the positions of the fringes and their sharpness. The point of this excersize is to demonstrate that the position of fringes is defined by the shortest path-length while the sharpness is defined by the longest path-length. Present a physical mechanism that explains why this rule is true.\n",
    "\n",
    "You are given an example for the case of 6 slits spaced 5 microns apart. You will modify this example for this question as well as questions 2 and 3."
   ]
  },
  {
   "cell_type": "code",
   "execution_count": 11,
   "metadata": {
    "collapsed": false
   },
   "outputs": [
    {
     "name": "stdout",
     "output_type": "stream",
     "text": [
      "(6L, 500L)\n"
     ]
    },
    {
     "name": "stderr",
     "output_type": "stream",
     "text": [
      "C:\\Anaconda\\lib\\site-packages\\numpy\\core\\numeric.py:462: ComplexWarning: Casting complex values to real discards the imaginary part\n",
      "  return array(a, dtype, copy=False, order=order)\n"
     ]
    },
    {
     "data": {
      "image/png": "[encoded data removed]",
      "text/plain": [
       "<matplotlib.figure.Figure at 0xa7322b0>"
      ]
     },
     "metadata": {},
     "output_type": "display_data"
    }
   ],
   "source": [
    "wavelength = 0.5  # um\n",
    "\n",
    "# source\n",
    "n_sources = 6\n",
    "d_sources = 5  # um\n",
    "source_coords = np.zeros((3, n_sources))\n",
    "source_coords[2] = np.arange(n_sources) * d_sources\n",
    "# the second dimension of coordinate arrays corresponds to the x, y, and z positions\n",
    "# so the source array will have shape (3, n_sources)\n",
    "\n",
    "# screen\n",
    "dist = 1e5  # um\n",
    "n_screen_points = 500\n",
    "theta = 0.001\n",
    "screen_coords = np.zeros((3, n_screen_points))\n",
    "screen_coords[0] = dist\n",
    "screen_coords[2] = dist*np.tan((np.arange(n_screen_points)*theta))\n",
    "\n",
    "# distances between source and screen\n",
    "delta = np.sqrt(np.sum((source_coords[:, :, None]-screen_coords[:, None, :])**2, axis=0))\n",
    "print delta.shape\n",
    "# the delta array has shape (n_sources, n_screen_points)\n",
    "\n",
    "# electric field\n",
    "E = np.sum(np.exp(2*np.pi*1j*delta/wavelength), axis=0)\n",
    "# the electric field is calculated for each screen point\n",
    "\n",
    "# normalized intensity\n",
    "I = E*np.conj(E) / (n_sources)**2\n",
    "\n",
    "# plot\n",
    "plt.plot(screen_coords[2], I)\n",
    "plt.xlabel('distance (um)')\n",
    "plt.ylabel('intensity')\n",
    "plt.grid()"
   ]
  },
  {
   "cell_type": "markdown",
   "metadata": {},
   "source": [
    "##2\n",
    "The diffraction pattern in the far field for a single slit can be described by a series of closely space sources (the actual spacing is irrelevant as long as it is sufficiently small). Create the single slit diffraction pattern for a 5 micron slit."
   ]
  },
  {
   "cell_type": "markdown",
   "metadata": {},
   "source": [
    "##3\n",
    "Using the same strategy, define the diffraction pattern for two 5 micron slits that are 25 microns apart."
   ]
  }
 ],
 "metadata": {
  "kernelspec": {
   "display_name": "Python 2",
   "language": "python",
   "name": "python2"
  },
  "language_info": {
   "codemirror_mode": {
    "name": "ipython",
    "version": 2
   },
   "file_extension": ".py",
   "mimetype": "text/x-python",
   "name": "python",
   "nbconvert_exporter": "python",
   "pygments_lexer": "ipython2",
   "version": "2.7.10"
  }
 },
 "nbformat": 4,
 "nbformat_minor": 0
}
