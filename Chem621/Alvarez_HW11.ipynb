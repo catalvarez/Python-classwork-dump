{
 "cells": [
  {
   "cell_type": "markdown",
   "metadata": {},
   "source": [
    "#HW11 - Electrophoresis"
   ]
  },
  {
   "cell_type": "code",
   "execution_count": 3,
   "metadata": {
    "collapsed": true
   },
   "outputs": [],
   "source": [
    "# imports\n",
    "import matplotlib\n",
    "import matplotlib.pyplot as plt\n",
    "%matplotlib inline\n",
    "matplotlib.rcParams['figure.figsize'] = [9, 6]\n",
    "matplotlib.rcParams['font.size'] = 11\n",
    "import numpy as np"
   ]
  },
  {
   "cell_type": "markdown",
   "metadata": {},
   "source": [
    "This homework focuses on the ground breaking paper \"[Zone Electrophoresis in Open-Tubular Glass Capillaries](http://pubs.acs.org/doi/abs/10.1021/ac00231a037)\", Anal. Chem 1981, 53. 1298-1302 by James W. Jorgenson and Krynn DeAarman Lukas.\n",
    "\n",
    "##1\n",
    "The authors state that eddy migration is one important cause of zone broadening in zone electrophoresis. What is eddy migration and why does it cause broadening? Would the amount of broadening caused by eddy migration depend on the voltage used in electrophoresis? Does eddy diffusion depend on the column diameter? Is it an important effect in capillary zone electrophoresis? Explain the reasons for your answers."
   ]
  },
  {
   "cell_type": "markdown",
   "metadata": {},
   "source": [
    "Eddy migration is the multiple paths that particles can take through the column that cause the flow velocity to vary; this causes broadening since some molecules will then have a slightly faster retention time and some will have a slightly slower one. The broadening would be directly impacted by the voltage, because the voltage will cause a temperature gradient across the tube, thus affecting the flow rate. It would be dependent on the column diameter, because minimizing the diameter would minimize the temperature gradient as well as allowing the particles to be closer to the average temperature as they would travel across the tube more frequently. This is an important effect for CZE, because of it's effects on the peak broadening."
   ]
  },
  {
   "cell_type": "markdown",
   "metadata": {},
   "source": [
    "##2\n",
    "The authors state that molecular diffusion is important in their open-tubular glass capillary work but they also state that it is not important in conventional electrophoresis. Why is molecular diffusion important for one method but not the other?"
   ]
  },
  {
   "cell_type": "markdown",
   "metadata": {},
   "source": [
    "The molecular diffusion is only important when you have both a very narrow tube and a small amount of solute, because it is such a small term. In this case they have minimized the tube size but need to use a small amount to get symmetric peaks, so they must start to consider molecular diffusion."
   ]
  },
  {
   "cell_type": "markdown",
   "metadata": {},
   "source": [
    "##3\n",
    "Equation 6 is independent of capillary length, suggesting that the optimum analysis times are achieved with the shortest capillaries. What practical considerations will limit the shortest capillary without sacrificing the resolution?"
   ]
  },
  {
   "cell_type": "markdown",
   "metadata": {},
   "source": [
    "The heating that happens in the tube will limit the length; if the capillary is too short, the surface to volume ratio will be low and the heat profile in the tube will cause convection."
   ]
  },
  {
   "cell_type": "markdown",
   "metadata": {},
   "source": [
    "##4\n",
    "From the data presented, estimate the diffusion constant for the fluorescamine derivative of hexylamine in the solvent buffer."
   ]
  },
  {
   "cell_type": "code",
   "execution_count": 7,
   "metadata": {
    "collapsed": false
   },
   "outputs": [
    {
     "name": "stdout",
     "output_type": "stream",
     "text": [
      "1.60256410256e-05\n"
     ]
    }
   ],
   "source": [
    "t_R = 13*60 # s\n",
    "Voltage = 30.0E3\n",
    "L = 100 # cm\n",
    "mu = L**2/(Voltage*t_R)\n",
    "N = 4e5 # 4E5\n",
    "D = mu*Voltage/(2*N)\n",
    "print D"
   ]
  },
  {
   "cell_type": "markdown",
   "metadata": {},
   "source": [
    "##5\n",
    "A fluorescence detector is used for this work. In order to prevent broadening from the detector, the detector volume must be smaller than the volume of an analyte peak. Determine the volume of the analyte peak as it elutes from the capillary column. Are the dimensions compatible with a fluorescence detector such as that used in the paper on single molecule detection by Zare?"
   ]
  },
  {
   "cell_type": "code",
   "execution_count": 9,
   "metadata": {
    "collapsed": false
   },
   "outputs": [
    {
     "name": "stdout",
     "output_type": "stream",
     "text": [
      "2.79410294976e-08 L\n",
      "the Zare paper gave us 5E-16 L\n",
      "our volume is much larger because that was a single molecule set up,\n",
      "and we are looking at bulk\n"
     ]
    }
   ],
   "source": [
    "sigma = np.sqrt(2*D*t_R)\n",
    "W_base = 4*sigma*0.01 # m\n",
    "r = 75e-6/2 # radius of tube\n",
    "V = np.pi*r**2*W_base*1000 # m3 to L\n",
    "print V, \"L\"\n",
    "print \"the Zare paper gave us 5E-16 L\"\n",
    "print \"our volume is much larger because that was a single molecule set up,\"\n",
    "print \"and we are looking at bulk\""
   ]
  },
  {
   "cell_type": "markdown",
   "metadata": {},
   "source": [
    "##6\n",
    "The authors point out that temperature gradients across the column become less important if the capillary diameter is smaller than the distances associated with molecular diffusion (Molecular diffusion is the important mechanism for transporting heat in solutions). Estimate the rate required for molecular diffusion to be fast enough to avoid temperature gradients. Does it need to occur many times while the molecule is in the column or once? Determine a reasonable way to quantitatively estimate the diameter required and then calculate the diameter required to meet this condition. Compare your estimate with the value used in the paper."
   ]
  },
  {
   "cell_type": "code",
   "execution_count": 10,
   "metadata": {
    "collapsed": false
   },
   "outputs": [
    {
     "name": "stdout",
     "output_type": "stream",
     "text": [
      "0.22360679775\n"
     ]
    },
    {
     "ename": "NameError",
     "evalue": "name 't_total' is not defined",
     "output_type": "error",
     "traceback": [
      "\u001b[1;31m---------------------------------------------------------------------------\u001b[0m",
      "\u001b[1;31mNameError\u001b[0m                                 Traceback (most recent call last)",
      "\u001b[1;32m<ipython-input-10-5d2f1f8084b4>\u001b[0m in \u001b[0;36m<module>\u001b[1;34m()\u001b[0m\n\u001b[0;32m      3\u001b[0m \u001b[1;32mprint\u001b[0m \u001b[0msigma\u001b[0m\u001b[1;33m\u001b[0m\u001b[0m\n\u001b[0;32m      4\u001b[0m \u001b[0mcycles\u001b[0m \u001b[1;33m=\u001b[0m \u001b[1;36m1000\u001b[0m\u001b[1;33m\u001b[0m\u001b[0m\n\u001b[1;32m----> 5\u001b[1;33m \u001b[0mt_cycle\u001b[0m \u001b[1;33m=\u001b[0m \u001b[0mt_total\u001b[0m\u001b[1;33m/\u001b[0m\u001b[0mcycles\u001b[0m\u001b[1;33m\u001b[0m\u001b[0m\n\u001b[0m",
      "\u001b[1;31mNameError\u001b[0m: name 't_total' is not defined"
     ]
    }
   ],
   "source": [
    "# The diffusion needs to occur many times in the column to avoid heating\n",
    "# the particle needs to diffuse from the center of the column to the outer edge to dissipate heat\n",
    "radius = np.sqrt(4*D*t_R)\n",
    "diameter = radius*2\n",
    "print diameter"
   ]
  },
  {
   "cell_type": "markdown",
   "metadata": {},
   "source": [
    "##7\n",
    "Calculate the number of plates, $N$, that would be experimentally measured if the samples were introduced to the capillary by applying the high voltage for 30 seconds. What period of time would be necessary to achieve the results reported in the paper?"
   ]
  },
  {
   "cell_type": "code",
   "execution_count": 14,
   "metadata": {
    "collapsed": false
   },
   "outputs": [
    {
     "name": "stdout",
     "output_type": "stream",
     "text": [
      "10400000.0\n",
      "the time necessary to reproduce the paper's results would be 13 minutes\n"
     ]
    }
   ],
   "source": [
    "t = 30\n",
    "sigma_L = np.sqrt(2*D*t)\n",
    "N = L**2/sigma_L**2\n",
    "print N\n",
    "print \"the time necessary to reproduce the paper's results would be 13 minutes\""
   ]
  },
  {
   "cell_type": "markdown",
   "metadata": {},
   "source": [
    "##8\n",
    "Compare the flow profile of electro-osmotic flow with the laminar flow profile of open HPLC. Is there an advantage to using electro-osmotic flow in conventional HPLC? If there is, would it be possible to replace conventional pumps in HPLC with high voltage supplies and use electro-osmosis for LC separations?"
   ]
  },
  {
   "cell_type": "markdown",
   "metadata": {},
   "source": [
    "The electro-osmotic flow has a better plug/ flow profile, but the HPLC column needs to be a wider diameter, which negates the advantage because it would have a large temperature gradient, giving large convection across the tube and broadening your peaks."
   ]
  },
  {
   "cell_type": "markdown",
   "metadata": {},
   "source": [
    "##9\n",
    "What is the height of a theoretical plate (in cm) and the spatial (in cm) and temporal (in sec) widths of an analyte peak?"
   ]
  },
  {
   "cell_type": "code",
   "execution_count": 18,
   "metadata": {
    "collapsed": false
   },
   "outputs": [
    {
     "name": "stdout",
     "output_type": "stream",
     "text": [
      "0.00025\n",
      "0.158113883008 spatial\n",
      "1.23328828747 temporal\n"
     ]
    }
   ],
   "source": [
    "N = 4e5\n",
    "H = L/N\n",
    "print H\n",
    "sigma_x = np.sqrt(H*L)\n",
    "print sigma_x, \"spatial\"\n",
    "sigma_t = t_R/np.sqrt(N)\n",
    "print sigma_t, \"temporal\""
   ]
  },
  {
   "cell_type": "code",
   "execution_count": null,
   "metadata": {
    "collapsed": true
   },
   "outputs": [],
   "source": []
  }
 ],
 "metadata": {
  "kernelspec": {
   "display_name": "Python 2",
   "language": "python",
   "name": "python2"
  },
  "language_info": {
   "codemirror_mode": {
    "name": "ipython",
    "version": 2
   },
   "file_extension": ".py",
   "mimetype": "text/x-python",
   "name": "python",
   "nbconvert_exporter": "python",
   "pygments_lexer": "ipython2",
   "version": "2.7.8"
  }
 },
 "nbformat": 4,
 "nbformat_minor": 0
}
