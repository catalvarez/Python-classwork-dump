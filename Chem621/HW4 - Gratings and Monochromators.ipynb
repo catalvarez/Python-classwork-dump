{
 "cells": [
  {
   "cell_type": "markdown",
   "metadata": {},
   "source": [
    "#HW4 - Gratings and Monochromators"
   ]
  },
  {
   "cell_type": "code",
   "execution_count": 1,
   "metadata": {
    "collapsed": true
   },
   "outputs": [],
   "source": [
    "# imports\n",
    "import matplotlib\n",
    "import matplotlib.pyplot as plt\n",
    "%matplotlib inline\n",
    "matplotlib.rcParams['figure.figsize'] = [9, 6]\n",
    "matplotlib.rcParams['font.size'] = 11\n",
    "import numpy as np"
   ]
  },
  {
   "cell_type": "markdown",
   "metadata": {},
   "source": [
    "##1\n",
    "A light source is directed into a 100x100 mm diffraction grating at an agle of 20 degrees relative to the grating's normal. The grating has a ruling density of 1200 lines/mm. A 100 cm long screen is placed 50 cm from the grating and the dispersed spectrum is displayed on the screen. The screen is placed so it is directly in front of the grating. You observe the visible spectrum that runs from 400 nm to 800 nm.\n",
    "\n",
    "##1a\n",
    "Calculate the position of the different wavelengths of light and sketch the spectra that you will observe on the screen for all orders that appear (n=-1, 0, 1, and some of 2). (I get answers of -72.2 to off screen, 6.97 to 39.3, -18.2, 39.3 to off screen for n=-1 to 2 and for wavelengths of 400-800 nm)."
   ]
  },
  {
   "cell_type": "code",
   "execution_count": 2,
   "metadata": {
    "collapsed": false
   },
   "outputs": [
    {
     "name": "stdout",
     "output_type": "stream",
     "text": [
      "21.0\n",
      "21.0\n",
      "11000.0\n"
     ]
    }
   ],
   "source": [
    "# it is probably useful to use functions in this homework\n",
    "# functions accept a series of inputs and may return something as an output\n",
    "# you have already used functions, for example np.sin(x) is a function that returns the sine of x\n",
    "\n",
    "# here is a very simple example function\n",
    "# your functions may have as many inputs and lines as you wish\n",
    "# you may call functions within other functions\n",
    "def my_function(a, b, c, d):\n",
    "    sum1 = a+b\n",
    "    sum2 = c+d\n",
    "    return sum1*sum2\n",
    "\n",
    "# here I call the function\n",
    "print my_function(1., 2., 3., 4.)\n",
    "\n",
    "# functions are useful because I can call them again and again with different parameters\n",
    "print my_function(4., 3., 2., 1.)\n",
    "print my_function(0., 10., 100., 1000.)"
   ]
  },
  {
   "cell_type": "markdown",
   "metadata": {},
   "source": [
    "##1b\n",
    "The grating is no replaced by a 100x100 mm grating with 300 lines/mm. How many orders appear? Sketch the spectra that will be observed on the screen."
   ]
  },
  {
   "cell_type": "markdown",
   "metadata": {},
   "source": [
    "##2\n",
    "A detector is placed 26.9 cm from the center of the screen towards the side that shows the highest order (n=2).\n",
    "\n",
    "##2a\n",
    "What visible frequency (or frequencies) is (are) detected at that position for the 1200 line/mm grating?"
   ]
  },
  {
   "cell_type": "markdown",
   "metadata": {},
   "source": [
    "##2b\n",
    "The grating is again replaced by the 300 line/mm grating. What wavelengths are now detected at that same position?"
   ]
  },
  {
   "cell_type": "markdown",
   "metadata": {},
   "source": [
    "##3\n",
    "Compare the narrowest line $(\\Delta \\lambda)$, that could be measured with each grating at the position of the detector in part 2. Choose the one wavelength that can be observed by both gratings at the same position. Which grating has the highest resolution?"
   ]
  },
  {
   "cell_type": "markdown",
   "metadata": {},
   "source": [
    "##4 \n",
    "The grating in question 1a is now placed inside a 0.3 meter focal length monochromator with a 100 micron entrance slit and a 200 micron exit slit.\n",
    "\n",
    "##4a\n",
    "Graph the spectrum of a monochromatic light source with a wavelength of 680 nm. (The graph can be hand-drawn but make sure the x-axis is labeled so one can see the width of the observed line)."
   ]
  },
  {
   "cell_type": "markdown",
   "metadata": {},
   "source": [
    "##4b\n",
    "What is the reciprocal linear dispersion of the instrument?"
   ]
  },
  {
   "cell_type": "markdown",
   "metadata": {},
   "source": [
    "##4c\n",
    "What is the FWHM that you would expect if the monochromator scanned across the 680 nm line?"
   ]
  },
  {
   "cell_type": "markdown",
   "metadata": {},
   "source": [
    "##4d\n",
    "What is the ultimate resolution that could be observed with very narrow slits?"
   ]
  },
  {
   "cell_type": "markdown",
   "metadata": {},
   "source": [
    "##4e\n",
    "What slit width would be necessary to achieve the ultimate resolution?"
   ]
  },
  {
   "cell_type": "markdown",
   "metadata": {},
   "source": [
    "##4f\n",
    "What wavelengths would have to be filtered out in order to insure that only 680 nm light was measured?"
   ]
  },
  {
   "cell_type": "markdown",
   "metadata": {},
   "source": [
    "##5\n",
    "[Ocean Optics](http://oceanoptics.com/) is a company that became very succesful by introducing a simple monochromator coupled to a CCD array detector. An array detector is at the heart of video cameras and typically contains 1024x1024 pixels on a 1\"x1\" square array. Their typical monochromator disperses the entire visible spectrum (400-800 nm) across the entire array and displays the intensity of each pixel on a computer screen. You can then see the changes in the light intensity at every wavelength as an experiment is conducted so it is a very versitile instrument. Assume the grating has 600 lines/mm and is 1\" square. It is blazed for 500 nm.\n",
    "\n",
    "##5a \n",
    "Calculate the focal length of the monochromator that will be appropriate for this application."
   ]
  },
  {
   "cell_type": "markdown",
   "metadata": {},
   "source": [
    "##5b\n",
    "What width slit(s) would you install in the monochromator as the standard slit sold with each instrument? Would your monochromator require one slit or two?"
   ]
  },
  {
   "cell_type": "markdown",
   "metadata": {},
   "source": [
    "##5c\n",
    "What resolution would your commercial literature publish for the instrument you have built?"
   ]
  },
  {
   "cell_type": "markdown",
   "metadata": {},
   "source": [
    "##5d\n",
    "What is its f/#?"
   ]
  },
  {
   "cell_type": "markdown",
   "metadata": {},
   "source": [
    "##5e\n",
    "Ocean Optics has just contact you to act as a consultant for their new line of spectrometers that has both good resolution and wide spectral coverage. They intend to create it using the same CCD array detector and two gratings. One grating disperses the light vertically and the other disperses it horizontally. This strategy is called cross-dispersion. The latter grating has 300 lines/mm and is 1\" square but it is blazed for 6 microns (6000 nm). That means the visible light would be diffracted into high orders, e.g. 500 nm light would diffracted preferentially into 12th order since 500x12=6000. That has the unforunate consiquence that the 11th order of 545 nm and the 13th order of 462 nm would also appear at the same angle. The key to Ocean Optic's instrument is that the first grating would seperate the 11th, 12, 13th, etc. orders vertically. Thus the vertical dimension provides broad spectral coverage while the horizontal direction provides high resolution.\n",
    "\n",
    "##5e part 1\n",
    "Using the same focal length that you used for the previous problem, what resolution would you publish for this new instrument?"
   ]
  },
  {
   "cell_type": "markdown",
   "metadata": {},
   "source": [
    "##5e part 2\n",
    "Make a sketch that shows what the CCD display would look like. Include example wavelengths to identify how the wavelengths would be dispersed accross the face of the CCD."
   ]
  }
 ],
 "metadata": {
  "kernelspec": {
   "display_name": "Python 2",
   "language": "python",
   "name": "python2"
  },
  "language_info": {
   "codemirror_mode": {
    "name": "ipython",
    "version": 2
   },
   "file_extension": ".py",
   "mimetype": "text/x-python",
   "name": "python",
   "nbconvert_exporter": "python",
   "pygments_lexer": "ipython2",
   "version": "2.7.8"
  }
 },
 "nbformat": 4,
 "nbformat_minor": 0
}
