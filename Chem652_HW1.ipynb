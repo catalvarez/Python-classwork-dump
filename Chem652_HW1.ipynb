{
 "cells": [
  {
   "cell_type": "code",
   "execution_count": 2,
   "metadata": {
    "collapsed": true
   },
   "outputs": [],
   "source": [
    "# imports\n",
    "import matplotlib\n",
    "import matplotlib.pyplot as plt\n",
    "%matplotlib inline\n",
    "#matplotlib.rcParams['figure.figsize'] = [12, 6]\n",
    "matplotlib.rcParams['font.size'] = 11\n",
    "import numpy as np\n",
    "import scipy.constants as spc"
   ]
  },
  {
   "cell_type": "code",
   "execution_count": 15,
   "metadata": {},
   "outputs": [
    {
     "name": "stdout",
     "output_type": "stream",
     "text": [
      "-6.5\n",
      "-2.5\n",
      "-5.5\n",
      "-1.5\n"
     ]
    },
    {
     "data": {
      "image/png": "[encoded data removed]",
      "text/plain": [
       "<matplotlib.figure.Figure at 0x117e2588>"
      ]
     },
     "metadata": {},
     "output_type": "display_data"
    }
   ],
   "source": [
    "# problem 2a\n",
    "N1 = 1000.0\n",
    "N2 = 1000.0\n",
    "E_0 = -4.0\n",
    "B1 = -0.25\n",
    "B2 = -1.0\n",
    "m1 = np.arange(0,N1,1.0)\n",
    "m2 = np.arange(0,N2,1.0)\n",
    "m2 = m2.reshape(len(m2),1)\n",
    "E = E_0+2.0*B1*np.cos(2.0*spc.pi*m1/N1)+2.0*B2*np.cos(2.0*spc.pi*m2/N2)\n",
    "\n",
    "X, Y = np.meshgrid(m1, m2)\n",
    "plt.contourf(X, Y, E)\n",
    "plt.arrow(0,499,500,0,lw = 2)\n",
    "plt.arrow(499,499,0,500,lw = 2)\n",
    "\n",
    "print E[0,0]\n",
    "print np.max(E[:,0])\n",
    "print np.max(E[0,:])\n",
    "print np.max(E)"
   ]
  },
  {
   "cell_type": "code",
   "execution_count": 17,
   "metadata": {},
   "outputs": [
    {
     "data": {
      "text/plain": [
       "[<matplotlib.lines.Line2D at 0xcdd3f28>]"
      ]
     },
     "execution_count": 17,
     "metadata": {},
     "output_type": "execute_result"
    },
    {
     "data": {
      "image/png": "[encoded data removed]",
      "text/plain": [
       "<matplotlib.figure.Figure at 0xc6b3550>"
      ]
     },
     "metadata": {},
     "output_type": "display_data"
    }
   ],
   "source": [
    "# problem 2e\n",
    "\n",
    "N1 = 1000.0\n",
    "N2 = 3\n",
    "E_0 = -4.0\n",
    "B1 = -0.05\n",
    "B2 = -1.0\n",
    "m1 = np.arange(0,N1,1.0)\n",
    "m2 = np.arange(0,N2,1.0) # m = 0,1,2\n",
    "m2 = m2.reshape(len(m2),1)\n",
    "E_conduction = E_0+2.0*B1*np.cos(2.0*spc.pi*m1/N1)+2.0*B2*np.cos(2.0*spc.pi*m2/N2)\n",
    "E_valence = E_0-2.0*B1*np.cos(2.0*spc.pi*m1/N1)-2.0*B2*np.cos(2.0*spc.pi*m2/N2)\n",
    "\n",
    "plt.figure(1)\n",
    "plt.subplot(131)\n",
    "plt.plot(m1,E_conduction[0,:])\n",
    "plt.plot(m1,E_valence[0,:])\n",
    "\n",
    "plt.subplot(132)\n",
    "plt.plot(m1,E_conduction[1,:])\n",
    "plt.plot(m1,E_valence[1,:])\n",
    "\n",
    "plt.subplot(133)\n",
    "plt.plot(m1,E_conduction[2,:])\n",
    "plt.plot(m1,E_valence[2,:])"
   ]
  },
  {
   "cell_type": "code",
   "execution_count": null,
   "metadata": {
    "collapsed": true
   },
   "outputs": [],
   "source": []
  }
 ],
 "metadata": {
  "kernelspec": {
   "display_name": "Python 2",
   "language": "python",
   "name": "python2"
  },
  "language_info": {
   "codemirror_mode": {
    "name": "ipython",
    "version": 2
   },
   "file_extension": ".py",
   "mimetype": "text/x-python",
   "name": "python",
   "nbconvert_exporter": "python",
   "pygments_lexer": "ipython2",
   "version": "2.7.13"
  }
 },
 "nbformat": 4,
 "nbformat_minor": 1
}
