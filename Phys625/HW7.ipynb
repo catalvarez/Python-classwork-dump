{
 "cells": [
  {
   "cell_type": "code",
   "execution_count": 6,
   "metadata": {
    "collapsed": true
   },
   "outputs": [],
   "source": [
    "# imports\n",
    "import matplotlib\n",
    "import matplotlib.pyplot as plt\n",
    "%matplotlib inline\n",
    "#matplotlib.rcParams['figure.figsize'] = [12, 6]\n",
    "matplotlib.rcParams['font.size'] = 11\n",
    "import numpy as np\n",
    "import scipy.special as spsp\n",
    "import scipy.constants as spc"
   ]
  },
  {
   "cell_type": "code",
   "execution_count": 46,
   "metadata": {
    "collapsed": false
   },
   "outputs": [
    {
     "name": "stdout",
     "output_type": "stream",
     "text": [
      "[ 1.44402362  1.44401164]\n",
      "3.99599733155e-11\n"
     ]
    }
   ],
   "source": [
    "# calculations for question 3\n",
    "lamda = np.array([1.550,1.551])\n",
    "n = np.sqrt(1.0+ \\\n",
    "            0.6961663*lamda**2/(lamda**2-0.0684043**2)+ \\\n",
    "            0.4079426*lamda**2/(lamda**2-0.1162414**2)+ \\\n",
    "            0.8974794*lamda**2/(lamda**2-9.896161**2))\n",
    "print n\n",
    "\n",
    "delta_t = 1000.0*(0.00002362-0.00001164)/2.998e8\n",
    "print delta_t"
   ]
  },
  {
   "cell_type": "code",
   "execution_count": 48,
   "metadata": {
    "collapsed": false
   },
   "outputs": [
    {
     "name": "stdout",
     "output_type": "stream",
     "text": [
      "Beta equals [ 9.1630433   9.11885928  9.04108102]\n"
     ]
    },
    {
     "name": "stderr",
     "output_type": "stream",
     "text": [
      "C:\\Anaconda\\lib\\site-packages\\ipykernel\\__main__.py:9: RuntimeWarning: invalid value encountered in multiply\n"
     ]
    },
    {
     "data": {
      "text/plain": [
       "(0, 20)"
      ]
     },
     "execution_count": 48,
     "metadata": {},
     "output_type": "execute_result"
    },
    {
     "data": {
      "image/png": "[encoded data removed]",
      "text/plain": [
       "<matplotlib.figure.Figure at 0x10bee358>"
      ]
     },
     "metadata": {},
     "output_type": "display_data"
    }
   ],
   "source": [
    "# calculations for question 5\n",
    "V = 10.0\n",
    "n1 = 1.46\n",
    "a = 5.0 # micrometers\n",
    "wavelength = 1.0\n",
    "x = np.linspace(0,V,10000)\n",
    "y = np.sqrt(V**2-x**2)\n",
    "LHS = x*spsp.j1(x)/spsp.j0(x)\n",
    "RHS = y*spsp.k1(y)/spsp.k0(y)\n",
    "\n",
    "intersect = np.absolute(LHS-RHS)\n",
    "x_values = np.array([x[np.nanargmin(intersect[0:4000])], \\\n",
    "                     x[(4000+np.nanargmin(intersect[4000:6000]))], \\\n",
    "                     x[(6000+np.nanargmin(intersect[6000:9000]))]])\n",
    "\n",
    "k_t = x_values/a\n",
    "Beta = np.sqrt((2.0*spc.pi*n1/wavelength)**2-k_t**2)\n",
    "print \"Beta equals\", Beta\n",
    "\n",
    "\n",
    "fig = plt.figure(figsize=[10, 5])\n",
    "plt.plot(x,LHS, marker=\"+\")\n",
    "plt.plot(x,RHS,marker=\"+\")\n",
    "plt.ylim([-0,20])\n"
   ]
  },
  {
   "cell_type": "code",
   "execution_count": null,
   "metadata": {
    "collapsed": true
   },
   "outputs": [],
   "source": []
  }
 ],
 "metadata": {
  "kernelspec": {
   "display_name": "Python 2",
   "language": "python",
   "name": "python2"
  },
  "language_info": {
   "codemirror_mode": {
    "name": "ipython",
    "version": 2
   },
   "file_extension": ".py",
   "mimetype": "text/x-python",
   "name": "python",
   "nbconvert_exporter": "python",
   "pygments_lexer": "ipython2",
   "version": "2.7.11"
  }
 },
 "nbformat": 4,
 "nbformat_minor": 0
}
